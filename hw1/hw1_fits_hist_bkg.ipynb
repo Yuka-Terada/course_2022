{
 "cells": [
  {
   "cell_type": "code",
   "execution_count": 1,
   "id": "c55a1282",
   "metadata": {},
   "outputs": [],
   "source": [
    "import numpy as np\n",
    "from astropy.io import fits\n",
    "import matplotlib.pyplot as plt"
   ]
  },
  {
   "cell_type": "code",
   "execution_count": 2,
   "id": "fde481d1",
   "metadata": {},
   "outputs": [],
   "source": [
    "hdu = fits.open('example.fits')\n",
    "header = hdu[0].header\n",
    "img = hdu[0].data\n",
    "#header\n"
   ]
  },
  {
   "cell_type": "markdown",
   "id": "15fb2bb3",
   "metadata": {},
   "source": [
    "# 5-a"
   ]
  },
  {
   "cell_type": "code",
   "execution_count": 3,
   "id": "53f93c29",
   "metadata": {},
   "outputs": [
    {
     "data": {
      "image/png": "[encoded data removed]",
      "text/plain": [
       "<Figure size 432x288 with 1 Axes>"
      ]
     },
     "metadata": {
      "needs_background": "light"
     },
     "output_type": "display_data"
    }
   ],
   "source": [
    "plt.hist(img.ravel(), bins=50)\n",
    "plt.yscale('def remove_outliers(data, m):\n",
    "    d = np.abs(data - np.median(data))\n",
    "    mdev = np.median(d)\n",
    "    s = d/mdev if mdev else 0.\n",
    "    return data[s<m]\n",
    "\n",
    "\n",
    "out = remove_outliers(img,3)\n",
    "for i in range(5): \n",
    "    out = remove_outliers(out,3)log')\n",
    "plt.xlabel('Flux')\n",
    "plt.ylabel('Number of pixel')\n",
    "plt.show()"
   ]
  },
  {
   "cell_type": "markdown",
   "id": "a1b4eb29",
   "metadata": {},
   "source": [
    "# 5-b"
   ]
  },
  {
   "cell_type": "code",
   "execution_count": 4,
   "id": "e8fae5f9",
   "metadata": {},
   "outputs": [],
   "source": [
    "def remove_outliers(data, m):\n",
    "    d = np.abs(data - np.median(data))\n",
    "    mdev = np.median(d)\n",
    "    s = d/mdev if mdev else 0.\n",
    "    return data[s<m]\n",
    "\n",
    "\n",
    "out = remove_outliers(img,3)\n",
    "for i in range(5): \n",
    "    out = remove_outliers(out,3)\n"
   ]
  },
  {
   "cell_type": "code",
   "execution_count": 5,
   "id": "ab70ae61",
   "metadata": {
    "scrolled": true
   },
   "outputs": [
    {
     "name": "stdout",
     "output_type": "stream",
     "text": [
      "background mean: 62.926846\n",
      "background uncertaintty: 2.1121135\n"
     ]
    }
   ],
   "source": [
    "print('background mean:',np.mean(out))\n",
    "print('background uncertaintty:',np.std(out))"
   ]
  },
  {
   "cell_type": "code",
   "execution_count": null,
   "id": "9b7747f6",
   "metadata": {},
   "outputs": [],
   "source": []
  }
 ],
 "metadata": {
  "kernelspec": {
   "display_name": "Python 3 (ipykernel)",
   "language": "python",
   "name": "python3"
  },
  "language_info": {
   "codemirror_mode": {
    "name": "ipython",
    "version": 3
   },
   "file_extension": ".py",
   "mimetype": "text/x-python",
   "name": "python",
   "nbconvert_exporter": "python",
   "pygments_lexer": "ipython3",
   "version": "3.9.7"
  }
 },
 "nbformat": 4,
 "nbformat_minor": 5
}
