{
 "cells": [
  {
   "cell_type": "markdown",
   "metadata": {},
   "source": [
    "https://ccdproc.readthedocs.io/en/latest/reduction_toolbox.html"
   ]
  },
  {
   "cell_type": "code",
   "execution_count": 1,
   "metadata": {},
   "outputs": [
    {
     "name": "stderr",
     "output_type": "stream",
     "text": [
      "/Users/yt/.pyenv/versions/anaconda3-5.3.1/lib/python3.7/site-packages/pandas/compat/_optional.py:138: UserWarning: Pandas requires version '2.7.0' or newer of 'numexpr' (version '2.6.8' currently installed).\n",
      "  warnings.warn(msg, UserWarning)\n"
     ]
    }
   ],
   "source": [
    "import os\n",
    "import aplpy\n",
    "import pandas as pd\n",
    "import numpy as np\n",
    "import matplotlib.pyplot as plt\n",
    "import ccdproc as ccdp\n",
    "from pathlib import Path\n",
    "\n",
    "import astropy.io.fits as fits\n",
    "from astropy.stats import mad_std\n",
    "from astropy.stats import sigma_clipped_stats\n",
    "from astropy.visualization import SqrtStretch\n",
    "from astropy.visualization.mpl_normalize import ImageNormalize"
   ]
  },
  {
   "cell_type": "markdown",
   "metadata": {},
   "source": [
    "#!ls /media/yterada/My\\ Passport/course/adv_obs2022/Lulin_Data_20220409/\n",
    "#for ASUS\n",
    "data = '/media/yterada/My\\ Passport/course/adv_obs2022/Lulin_Data_20220409/'\n",
    "obj = '20220409_M27-001bin1_30s.fits'"
   ]
  },
  {
   "cell_type": "code",
   "execution_count": 9,
   "metadata": {},
   "outputs": [
    {
     "name": "stdout",
     "output_type": "stream",
     "text": [
      "\u001b[31m20220409_bias-001.fits\u001b[m\u001b[m             \u001b[31m20220409_bias-015.fits\u001b[m\u001b[m\r\n",
      "\u001b[31m20220409_bias-002.fits\u001b[m\u001b[m             \u001b[31m20220409_bias-016.fits\u001b[m\u001b[m\r\n",
      "\u001b[31m20220409_bias-003.fits\u001b[m\u001b[m             \u001b[31m20220409_dark-001bin1_dark10s.fits\u001b[m\u001b[m\r\n",
      "\u001b[31m20220409_bias-004.fits\u001b[m\u001b[m             \u001b[31m20220409_dark-002bin1_dark10s.fits\u001b[m\u001b[m\r\n",
      "\u001b[31m20220409_bias-005.fits\u001b[m\u001b[m             \u001b[31m20220409_dark-003bin1_dark10s.fits\u001b[m\u001b[m\r\n",
      "\u001b[31m20220409_bias-006.fits\u001b[m\u001b[m             \u001b[31m20220409_dark-004bin1_dark10s.fits\u001b[m\u001b[m\r\n",
      "\u001b[31m20220409_bias-007.fits\u001b[m\u001b[m             \u001b[31m20220409_dark-005bin1_dark10s.fits\u001b[m\u001b[m\r\n",
      "\u001b[31m20220409_bias-008.fits\u001b[m\u001b[m             \u001b[31m20220409_dark-006bin1_dark10s.fits\u001b[m\u001b[m\r\n",
      "\u001b[31m20220409_bias-009.fits\u001b[m\u001b[m             \u001b[31m20220409_dark-007bin1_dark10s.fits\u001b[m\u001b[m\r\n",
      "\u001b[31m20220409_bias-010.fits\u001b[m\u001b[m             \u001b[31m20220409_dark-008bin1_dark10s.fits\u001b[m\u001b[m\r\n",
      "\u001b[31m20220409_bias-011.fits\u001b[m\u001b[m             \u001b[31m20220409_dark-009bin1_dark10s.fits\u001b[m\u001b[m\r\n",
      "\u001b[31m20220409_bias-012.fits\u001b[m\u001b[m             \u001b[31m20220409_dark-010bin1_dark10s.fits\u001b[m\u001b[m\r\n",
      "\u001b[31m20220409_bias-013.fits\u001b[m\u001b[m             \u001b[31m20220409_lamp-001bin1_10s.fits\u001b[m\u001b[m\r\n",
      "\u001b[31m20220409_bias-014.fits\u001b[m\u001b[m\r\n"
     ]
    }
   ],
   "source": [
    "!ls /Volumes/My\\ Passport/course/adv_obs2022/Lulin_Data_20220409/hw8_data"
   ]
  },
  {
   "cell_type": "code",
   "execution_count": 7,
   "metadata": {},
   "outputs": [],
   "source": [
    "#!ls /Volumes/My\\ Passport/course/adv_obs2022/Lulin_Data_20220409/\n",
    "#for Macbook\n",
    "data = '/Volumes/My Passport/course/adv_obs2022/Lulin_Data_20220409/hw8_data/'\n",
    "obj = '20220409_M27-001bin1_30s.fits'"
   ]
  },
  {
   "cell_type": "code",
   "execution_count": 24,
   "metadata": {
    "scrolled": true
   },
   "outputs": [
    {
     "data": {
      "text/html": [
       "<div><i>Table length=27</i>\n",
       "<table id=\"table5101715792\" class=\"table-striped table-bordered table-condensed\">\n",
       "<thead><tr><th>file</th><th>imagetyp</th><th>exptime</th></tr></thead>\n",
       "<thead><tr><th>str34</th><th>str5</th><th>float64</th></tr></thead>\n",
       "<tr><td>20220409_bias-001.fits</td><td>BIAS</td><td>0.0</td></tr>\n",
       "<tr><td>20220409_bias-002.fits</td><td>BIAS</td><td>0.0</td></tr>\n",
       "<tr><td>20220409_bias-003.fits</td><td>BIAS</td><td>0.0</td></tr>\n",
       "<tr><td>20220409_bias-004.fits</td><td>BIAS</td><td>0.0</td></tr>\n",
       "<tr><td>20220409_bias-005.fits</td><td>BIAS</td><td>0.0</td></tr>\n",
       "<tr><td>20220409_bias-006.fits</td><td>BIAS</td><td>0.0</td></tr>\n",
       "<tr><td>20220409_bias-007.fits</td><td>BIAS</td><td>0.0</td></tr>\n",
       "<tr><td>20220409_bias-008.fits</td><td>BIAS</td><td>0.0</td></tr>\n",
       "<tr><td>20220409_bias-009.fits</td><td>BIAS</td><td>0.0</td></tr>\n",
       "<tr><td>20220409_bias-010.fits</td><td>BIAS</td><td>0.0</td></tr>\n",
       "<tr><td>...</td><td>...</td><td>...</td></tr>\n",
       "<tr><td>20220409_dark-002bin1_dark10s.fits</td><td>DARK</td><td>10.0</td></tr>\n",
       "<tr><td>20220409_dark-003bin1_dark10s.fits</td><td>DARK</td><td>10.0</td></tr>\n",
       "<tr><td>20220409_dark-004bin1_dark10s.fits</td><td>DARK</td><td>10.0</td></tr>\n",
       "<tr><td>20220409_dark-005bin1_dark10s.fits</td><td>DARK</td><td>10.0</td></tr>\n",
       "<tr><td>20220409_dark-006bin1_dark10s.fits</td><td>DARK</td><td>10.0</td></tr>\n",
       "<tr><td>20220409_dark-007bin1_dark10s.fits</td><td>DARK</td><td>10.0</td></tr>\n",
       "<tr><td>20220409_dark-008bin1_dark10s.fits</td><td>DARK</td><td>10.0</td></tr>\n",
       "<tr><td>20220409_dark-009bin1_dark10s.fits</td><td>DARK</td><td>10.0</td></tr>\n",
       "<tr><td>20220409_dark-010bin1_dark10s.fits</td><td>DARK</td><td>10.0</td></tr>\n",
       "<tr><td>20220409_lamp-001bin1_10s.fits</td><td>LIGHT</td><td>10.0</td></tr>\n",
       "</table></div>"
      ],
      "text/plain": [
       "<Table length=27>\n",
       "               file                imagetyp exptime\n",
       "              str34                  str5   float64\n",
       "---------------------------------- -------- -------\n",
       "            20220409_bias-001.fits     BIAS     0.0\n",
       "            20220409_bias-002.fits     BIAS     0.0\n",
       "            20220409_bias-003.fits     BIAS     0.0\n",
       "            20220409_bias-004.fits     BIAS     0.0\n",
       "            20220409_bias-005.fits     BIAS     0.0\n",
       "            20220409_bias-006.fits     BIAS     0.0\n",
       "            20220409_bias-007.fits     BIAS     0.0\n",
       "            20220409_bias-008.fits     BIAS     0.0\n",
       "            20220409_bias-009.fits     BIAS     0.0\n",
       "            20220409_bias-010.fits     BIAS     0.0\n",
       "                               ...      ...     ...\n",
       "20220409_dark-002bin1_dark10s.fits     DARK    10.0\n",
       "20220409_dark-003bin1_dark10s.fits     DARK    10.0\n",
       "20220409_dark-004bin1_dark10s.fits     DARK    10.0\n",
       "20220409_dark-005bin1_dark10s.fits     DARK    10.0\n",
       "20220409_dark-006bin1_dark10s.fits     DARK    10.0\n",
       "20220409_dark-007bin1_dark10s.fits     DARK    10.0\n",
       "20220409_dark-008bin1_dark10s.fits     DARK    10.0\n",
       "20220409_dark-009bin1_dark10s.fits     DARK    10.0\n",
       "20220409_dark-010bin1_dark10s.fits     DARK    10.0\n",
       "    20220409_lamp-001bin1_10s.fits    LIGHT    10.0"
      ]
     },
     "execution_count": 24,
     "metadata": {},
     "output_type": "execute_result"
    }
   ],
   "source": [
    "dpath = Path(data)\n",
    "files = ccdp.ImageFileCollection(dpath)\n",
    "files.summary['file', 'imagetyp', 'exptime']"
   ]
  },
  {
   "cell_type": "code",
   "execution_count": 21,
   "metadata": {},
   "outputs": [],
   "source": [
    "comb_dark = {ccd.header['exptime']: ccd for ccd in files.ccds(imagetyp='DARK', combined=True)}\n",
    "#combined_flats = {ccd.header['filter']: ccd for ccd in ifc_reduced.ccds(imagetyp=, combined=True)}\n",
    "\n",
    "# There is only on bias, so no need to set up a dictionary.\n",
    "comb_bias = [ccd for ccd in files.ccds(imagetyp='BIAS', combined=True)]"
   ]
  },
  {
   "cell_type": "code",
   "execution_count": null,
   "metadata": {},
   "outputs": [],
   "source": []
  }
 ],
 "metadata": {
  "kernelspec": {
   "display_name": "Python 3",
   "language": "python",
   "name": "python3"
  },
  "language_info": {
   "codemirror_mode": {
    "name": "ipython",
    "version": 3
   },
   "file_extension": ".py",
   "mimetype": "text/x-python",
   "name": "python",
   "nbconvert_exporter": "python",
   "pygments_lexer": "ipython3",
   "version": "3.7.9"
  },
  "toc": {
   "base_numbering": 1,
   "nav_menu": {},
   "number_sections": true,
   "sideBar": true,
   "skip_h1_title": false,
   "title_cell": "Table of Contents",
   "title_sidebar": "Contents",
   "toc_cell": false,
   "toc_position": {},
   "toc_section_display": true,
   "toc_window_display": false
  }
 },
 "nbformat": 4,
 "nbformat_minor": 5
}
