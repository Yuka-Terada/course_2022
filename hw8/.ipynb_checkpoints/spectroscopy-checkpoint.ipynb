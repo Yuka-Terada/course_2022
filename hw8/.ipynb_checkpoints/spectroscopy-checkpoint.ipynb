{
 "cells": [
  {
   "cell_type": "code",
   "execution_count": 1,
   "id": "a4d39cc9",
   "metadata": {},
   "outputs": [
    {
     "name": "stderr",
     "output_type": "stream",
     "text": [
      "<frozen importlib._bootstrap>:228: RuntimeWarning: numpy.ndarray size changed, may indicate binary incompatibility. Expected 80 from C header, got 96 from PyObject\n"
     ]
    }
   ],
   "source": [
    "import numpy as np\n",
    "import matplotlib.pyplot as plt\n",
    "\n",
    "from astropy.stats import mad_std\n",
    "from astropy.stats import sigma_clipped_stats\n",
    "from astropy.visualization import SqrtStretch\n",
    "from astropy.visualization.mpl_normalize import ImageNormalize"
   ]
  },
  {
   "cell_type": "code",
   "execution_count": 9,
   "id": "7d6ec8cf",
   "metadata": {},
   "outputs": [
    {
     "name": "stdout",
     "output_type": "stream",
     "text": [
      "20220409_3C348-001bin1_600s.fits     20220409_Dark-017bin1_dark30s.fits\r\n",
      "20220409_3C348-002bin1_600s.fits     20220409_Dark-017bin1_dark600s.fits\r\n",
      "20220409_3C348-003bin1_600s.fits     20220409_Dark-018bin1_dark30s.fits\r\n",
      "20220409_3C348-004bin1_600s.fits     20220409_Dark-018bin1_dark600s.fits\r\n",
      "20220409_3C348-005bin1_600s.fits     20220409_Dark-019bin1_dark30s.fits\r\n",
      "20220409_3C348-006bin1_600s.fits     20220409_Dark-019bin1_dark600s.fits\r\n",
      "20220409_3C348-007bin1_600s.fits     20220409_Dark-020bin1_dark30s.fits\r\n",
      "20220409_3C348-008bin1_600s.fits     20220409_Dark-020bin1_dark600s.fits\r\n",
      "20220409_3C348-009bin1_600s.fits     20220409_Dark-021bin1_dark600s.fits\r\n",
      "20220409_3C348-010bin1_600s.fits     20220409_Dark-022bin1_dark600s.fits\r\n",
      "20220409_3C348-011bin1_600s.fits     20220409_Dark-023bin1_dark600s.fits\r\n",
      "20220409_3C348-012bin1_600s.fits     20220409_Dark-024bin1_dark600s.fits\r\n",
      "20220409_3C348-013bin1_600s.fits     20220409_Dark-025bin1_dark600s.fits\r\n",
      "20220409_3C348-014bin1_600s.fits     20220409_Dark-026bin1_dark600s.fits\r\n",
      "20220409_3C348-015bin1_600s.fits     20220409_Dark-027bin1_dark600s.fits\r\n",
      "20220409_bias-001.fits\t\t     20220409_Dark-028bin1_dark600s.fits\r\n",
      "20220409_bias-002.fits\t\t     20220409_Dark-029bin1_dark600s.fits\r\n",
      "20220409_bias-003.fits\t\t     20220409_Dark-030bin1_dark600s.fits\r\n",
      "20220409_bias-004.fits\t\t     20220409_flat-001bin1_30s.fits\r\n",
      "20220409_bias-005.fits\t\t     20220409_flat-002bin1_30s.fits\r\n",
      "20220409_bias-006.fits\t\t     20220409_flat-003bin1_30s.fits\r\n",
      "20220409_bias-007.fits\t\t     20220409_flat-004bin1_30s.fits\r\n",
      "20220409_bias-008.fits\t\t     20220409_flat-005bin1_30s.fits\r\n",
      "20220409_bias-009.fits\t\t     20220409_flat-006bin1_30s.fits\r\n",
      "20220409_bias-010.fits\t\t     20220409_flat-007bin1_30s.fits\r\n",
      "20220409_bias-011.fits\t\t     20220409_flat-008bin1_30s.fits\r\n",
      "20220409_bias-012.fits\t\t     20220409_flat-009bin1_30s.fits\r\n",
      "20220409_bias-013.fits\t\t     20220409_flat-010bin1_30s.fits\r\n",
      "20220409_bias-014.fits\t\t     20220409_lamp-001bin1_10s.fits\r\n",
      "20220409_bias-015.fits\t\t     20220409_lamp-001bin1_150s.fits\r\n",
      "20220409_bias-016.fits\t\t     20220409_lamp-002bin1_10s.fits\r\n",
      "20220409_dark-001bin1_10s.fits\t     20220409_lamp-002bin1_150s.fits\r\n",
      "20220409_dark-001bin1_dark10s.fits   20220409_lamp-003bin1_10s.fits\r\n",
      "20220409_dark-001bin1_dark150s.fits  20220409_lamp-003bin1_150s.fits\r\n",
      "20220409_Dark-001bin1_dark30s.fits   20220409_lamp-004bin1_10s.fits\r\n",
      "20220409_Dark-001bin1_dark600s.fits  20220409_lamp-004bin1_150s.fits\r\n",
      "20220409_dark-002bin1_10s.fits\t     20220409_lamp-005bin1_10s.fits\r\n",
      "20220409_dark-002bin1_dark10s.fits   20220409_lamp-006bin1_10s.fits\r\n",
      "20220409_dark-002bin1_dark150s.fits  20220409_lamp-007bin1_10s.fits\r\n",
      "20220409_Dark-002bin1_dark30s.fits   20220409_lamp-008bin1_10s.fits\r\n",
      "20220409_Dark-002bin1_dark600s.fits  20220409_lamp-009bin1_10s.fits\r\n",
      "20220409_dark-003bin1_dark10s.fits   20220409_lamp-010bin1_10s.fits\r\n",
      "20220409_dark-003bin1_dark150s.fits  20220409_M27-001bin1_30s.fits\r\n",
      "20220409_Dark-003bin1_dark30s.fits   20220409_M27-002bin1_30s.fits\r\n",
      "20220409_Dark-003bin1_dark600s.fits  20220409_M27-003bin1_30s.fits\r\n",
      "20220409_dark-004bin1_dark10s.fits   20220409_M27-004bin1_30s.fits\r\n",
      "20220409_dark-004bin1_dark150s.fits  20220409_M27-005bin1_30s.fits\r\n",
      "20220409_Dark-004bin1_dark30s.fits   20220409_M27-006bin1_30s.fits\r\n",
      "20220409_Dark-004bin1_dark600s.fits  20220409_M27-007bin1_30s.fits\r\n",
      "20220409_dark-005bin1_dark10s.fits   20220409_M27-008bin1_30s.fits\r\n",
      "20220409_Dark-005bin1_dark30s.fits   20220409_M27-009bin1_30s.fits\r\n",
      "20220409_Dark-005bin1_dark600s.fits  20220409_M27-010bin1_30s.fits\r\n",
      "20220409_dark-006bin1_dark10s.fits   20220409_M57-001bin1_30s.fits\r\n",
      "20220409_Dark-006bin1_dark30s.fits   20220409_M57-002bin1_30s.fits\r\n",
      "20220409_Dark-006bin1_dark600s.fits  20220409_M57-003bin1_30s.fits\r\n",
      "20220409_dark-007bin1_dark10s.fits   20220409_M57-004bin1_30s.fits\r\n",
      "20220409_Dark-007bin1_dark30s.fits   20220409_M57-005bin1_30s.fits\r\n",
      "20220409_Dark-007bin1_dark600s.fits  20220409_M57-006bin1_30s.fits\r\n",
      "20220409_dark-008bin1_dark10s.fits   20220409_M57-007bin1_30s.fits\r\n",
      "20220409_Dark-008bin1_dark30s.fits   20220409_M57-008bin1_30s.fits\r\n",
      "20220409_Dark-008bin1_dark600s.fits  20220409_M94-001bin1_600s.fits\r\n",
      "20220409_dark-009bin1_dark10s.fits   20220409_M94-002bin1_600s.fits\r\n",
      "20220409_Dark-009bin1_dark30s.fits   20220409_M94-003bin1_600s.fits\r\n",
      "20220409_Dark-009bin1_dark600s.fits  20220409_M94-004bin1_600s.fits\r\n",
      "20220409_dark-010bin1_dark10s.fits   20220409_M94-005bin1_600s.fits\r\n",
      "20220409_Dark-010bin1_dark30s.fits   20220409_M94-006bin1_600s.fits\r\n",
      "20220409_Dark-010bin1_dark600s.fits  20220409_M94-007bin1_600s.fits\r\n",
      "20220409_Dark-011bin1_dark30s.fits   20220409_M94-008bin1_600s.fits\r\n",
      "20220409_Dark-011bin1_dark600s.fits  20220409_M94position2-001bin1_600s.fits\r\n",
      "20220409_Dark-012bin1_dark30s.fits   20220409_M94position2-002bin1_600s.fits\r\n",
      "20220409_Dark-012bin1_dark600s.fits  20220409_M94position2-003bin1_600s.fits\r\n",
      "20220409_Dark-013bin1_dark30s.fits   20220409_M94position2-004bin1_600s.fits\r\n",
      "20220409_Dark-013bin1_dark600s.fits  20220409_M94position2-005bin1_600s.fits\r\n",
      "20220409_Dark-014bin1_dark30s.fits   20220409_M94position2-006bin1_600s.fits\r\n",
      "20220409_Dark-014bin1_dark600s.fits  20220409_M94position2-007bin1_600s.fits\r\n",
      "20220409_Dark-015bin1_dark30s.fits   20220409_M94position2-008bin1_600s.fits\r\n",
      "20220409_Dark-015bin1_dark600s.fits  20220409_M94_stack.fits\r\n",
      "20220409_Dark-016bin1_dark30s.fits   LOT_obs_log.pdf\r\n",
      "20220409_Dark-016bin1_dark600s.fits  M27_phd.png\r\n"
     ]
    }
   ],
   "source": [
    "!ls /media/yterada/My\\ Passport/course/adv_obs2022/Lulin_Data_20220409/"
   ]
  },
  {
   "cell_type": "code",
   "execution_count": null,
   "id": "932d2fb6",
   "metadata": {},
   "outputs": [],
   "source": [
    "data = '/media/yterada/My\\ Passport/course/adv_obs2022/Lulin_Data_20220409/'\n",
    "obj = '20220409_M27-001bin1_30s.fits'"
   ]
  }
 ],
 "metadata": {
  "kernelspec": {
   "display_name": "Python 3 (ipykernel)",
   "language": "python",
   "name": "python3"
  },
  "language_info": {
   "codemirror_mode": {
    "name": "ipython",
    "version": 3
   },
   "file_extension": ".py",
   "mimetype": "text/x-python",
   "name": "python",
   "nbconvert_exporter": "python",
   "pygments_lexer": "ipython3",
   "version": "3.9.7"
  }
 },
 "nbformat": 4,
 "nbformat_minor": 5
}
