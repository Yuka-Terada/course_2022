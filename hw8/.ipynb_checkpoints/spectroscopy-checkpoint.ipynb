{
 "cells": [
  {
   "cell_type": "markdown",
   "id": "8db14a10",
   "metadata": {},
   "source": [
    "https://ccdproc.readthedocs.io/en/latest/reduction_toolbox.html"
   ]
  },
  {
   "cell_type": "markdown",
   "id": "1e5f2598",
   "metadata": {},
   "source": [
    "https://specutils.readthedocs.io/en/stable/spectrum1d.html    "
   ]
  },
  {
   "cell_type": "markdown",
   "id": "d2b2c39b",
   "metadata": {},
   "source": [
    "https://stellartrip.net/python-for-astronomy-and-spectroscopy-rapid-spectrum-analysis/?lang=en"
   ]
  },
  {
   "cell_type": "markdown",
   "id": "4d61900f",
   "metadata": {},
   "source": [
    "https://notebook.community/kfollette/AST337-Fall2017/Labs/Lab6/Lab6"
   ]
  },
  {
   "cell_type": "markdown",
   "id": "2d27c0dd",
   "metadata": {},
   "source": [
    "!pip install specutils"
   ]
  },
  {
   "cell_type": "code",
   "execution_count": 1,
   "id": "a8218ae3",
   "metadata": {},
   "outputs": [],
   "source": [
    "import os\n",
    "#import aplpy\n",
    "from glob import glob\n",
    "import pandas as pd\n",
    "import numpy as np\n",
    "import matplotlib.pyplot as plt\n",
    "#import ccdproc as ccdp\n",
    "from pathlib import Path\n",
    "#from pyraf import iraf\n",
    "from specutils import Spectrum1D\n",
    "from scipy.optimize import curve_fit\n",
    "\n",
    "\n",
    "\n",
    "import astropy.io.fits as fits\n",
    "from astropy.stats import mad_std\n",
    "from astropy.stats import sigma_clipped_stats\n",
    "from astropy.visualization import SqrtStretch\n",
    "from astropy.visualization.mpl_normalize import ImageNormalize\n",
    "from astropy import units as u\n"
   ]
  },
  {
   "cell_type": "code",
   "execution_count": 2,
   "id": "a36b03ab",
   "metadata": {
    "scrolled": true
   },
   "outputs": [
    {
     "name": "stdout",
     "output_type": "stream",
     "text": [
      "ls: cannot access '/media/yterada/My Passport/course/adv_obs2022/Lulin_Data_20220409/hw8_data': No such file or directory\r\n"
     ]
    }
   ],
   "source": [
    "!ls /media/yterada/My\\ Passport/course/adv_obs2022/Lulin_Data_20220409/hw8_data\n",
    "#Mac\n",
    "#!ls /Volumes/My\\ Passport/course/adv_obs2022/Lulin_Data_20220409/hw8_data"
   ]
  },
  {
   "cell_type": "code",
   "execution_count": 3,
   "id": "71aac2d8",
   "metadata": {},
   "outputs": [
    {
     "data": {
      "text/plain": [
       "'/media/yterada/My Passport/course/adv_obs2022/Lulin_Data_20220409/hw8_data/20220409_lamp-001bin1_10s.fits'"
      ]
     },
     "execution_count": 3,
     "metadata": {},
     "output_type": "execute_result"
    }
   ],
   "source": [
    "#for ASUS\n",
    "data = '/media/yterada/My Passport/course/adv_obs2022/Lulin_Data_20220409/hw8_data/'\n",
    "image_fits = os.path.join(data,'20220409_lamp-001bin1_10s.fits')\n",
    "image_fits"
   ]
  },
  {
   "cell_type": "markdown",
   "id": "5238dddf",
   "metadata": {},
   "source": [
    "#!ls /Volumes/My\\ Passport/course/adv_obs2022/Lulin_Data_20220409/\n",
    "#for Macbook\n",
    "data = '/Volumes/My Passport/course/adv_obs2022/Lulin_Data_20220409/hw8_data/'\n",
    "obj = '20220409_M27-001bin1_30s.fits'"
   ]
  },
  {
   "cell_type": "code",
   "execution_count": 4,
   "id": "aef15ca5",
   "metadata": {},
   "outputs": [
    {
     "ename": "FileNotFoundError",
     "evalue": "[Errno 2] No such file or directory: '/media/yterada/My Passport/course/adv_obs2022/Lulin_Data_20220409/hw8_data/20220409_lamp-001bin1_10s.fits'",
     "output_type": "error",
     "traceback": [
      "\u001b[0;31m---------------------------------------------------------------------------\u001b[0m",
      "\u001b[0;31mFileNotFoundError\u001b[0m                         Traceback (most recent call last)",
      "Input \u001b[0;32mIn [4]\u001b[0m, in \u001b[0;36m<module>\u001b[0;34m\u001b[0m\n\u001b[0;32m----> 1\u001b[0m flat1, dr \u001b[38;5;241m=\u001b[39m \u001b[43mfits\u001b[49m\u001b[38;5;241;43m.\u001b[39;49m\u001b[43mgetdata\u001b[49m\u001b[43m(\u001b[49m\u001b[38;5;124;43m'\u001b[39;49m\u001b[38;5;124;43m/media/yterada/My Passport/course/adv_obs2022/Lulin_Data_20220409/hw8_data/20220409_lamp-001bin1_10s.fits\u001b[39;49m\u001b[38;5;124;43m'\u001b[39;49m\u001b[43m,\u001b[49m\u001b[43mheader\u001b[49m\u001b[38;5;241;43m=\u001b[39;49m\u001b[38;5;28;43;01mTrue\u001b[39;49;00m\u001b[43m)\u001b[49m\n\u001b[1;32m      2\u001b[0m dr[:\u001b[38;5;241m10\u001b[39m]\n",
      "File \u001b[0;32m~/anaconda3/envs/astcourse/lib/python3.9/site-packages/astropy/io/fits/convenience.py:203\u001b[0m, in \u001b[0;36mgetdata\u001b[0;34m(filename, header, lower, upper, view, *args, **kwargs)\u001b[0m\n\u001b[1;32m    199\u001b[0m extver \u001b[38;5;241m=\u001b[39m kwargs\u001b[38;5;241m.\u001b[39mget(\u001b[38;5;124m'\u001b[39m\u001b[38;5;124mextver\u001b[39m\u001b[38;5;124m'\u001b[39m)\n\u001b[1;32m    200\u001b[0m ext_given \u001b[38;5;241m=\u001b[39m \u001b[38;5;129;01mnot\u001b[39;00m (\u001b[38;5;28mlen\u001b[39m(args) \u001b[38;5;241m==\u001b[39m \u001b[38;5;241m0\u001b[39m \u001b[38;5;129;01mand\u001b[39;00m ext \u001b[38;5;129;01mis\u001b[39;00m \u001b[38;5;28;01mNone\u001b[39;00m \u001b[38;5;129;01mand\u001b[39;00m\n\u001b[1;32m    201\u001b[0m                  extname \u001b[38;5;129;01mis\u001b[39;00m \u001b[38;5;28;01mNone\u001b[39;00m \u001b[38;5;129;01mand\u001b[39;00m extver \u001b[38;5;129;01mis\u001b[39;00m \u001b[38;5;28;01mNone\u001b[39;00m)\n\u001b[0;32m--> 203\u001b[0m hdulist, extidx \u001b[38;5;241m=\u001b[39m \u001b[43m_getext\u001b[49m\u001b[43m(\u001b[49m\u001b[43mfilename\u001b[49m\u001b[43m,\u001b[49m\u001b[43m \u001b[49m\u001b[43mmode\u001b[49m\u001b[43m,\u001b[49m\u001b[43m \u001b[49m\u001b[38;5;241;43m*\u001b[39;49m\u001b[43margs\u001b[49m\u001b[43m,\u001b[49m\u001b[43m \u001b[49m\u001b[38;5;241;43m*\u001b[39;49m\u001b[38;5;241;43m*\u001b[39;49m\u001b[43mkwargs\u001b[49m\u001b[43m)\u001b[49m\n\u001b[1;32m    204\u001b[0m \u001b[38;5;28;01mtry\u001b[39;00m:\n\u001b[1;32m    205\u001b[0m     hdu \u001b[38;5;241m=\u001b[39m hdulist[extidx]\n",
      "File \u001b[0;32m~/anaconda3/envs/astcourse/lib/python3.9/site-packages/astropy/io/fits/convenience.py:1071\u001b[0m, in \u001b[0;36m_getext\u001b[0;34m(filename, mode, ext, extname, extver, *args, **kwargs)\u001b[0m\n\u001b[1;32m   1068\u001b[0m \u001b[38;5;28;01melif\u001b[39;00m extver \u001b[38;5;129;01mand\u001b[39;00m extname \u001b[38;5;129;01mis\u001b[39;00m \u001b[38;5;28;01mNone\u001b[39;00m:\n\u001b[1;32m   1069\u001b[0m     \u001b[38;5;28;01mraise\u001b[39;00m \u001b[38;5;167;01mTypeError\u001b[39;00m(\u001b[38;5;124m'\u001b[39m\u001b[38;5;124mextver alone cannot specify an extension.\u001b[39m\u001b[38;5;124m'\u001b[39m)\n\u001b[0;32m-> 1071\u001b[0m hdulist \u001b[38;5;241m=\u001b[39m \u001b[43mfitsopen\u001b[49m\u001b[43m(\u001b[49m\u001b[43mfilename\u001b[49m\u001b[43m,\u001b[49m\u001b[43m \u001b[49m\u001b[43mmode\u001b[49m\u001b[38;5;241;43m=\u001b[39;49m\u001b[43mmode\u001b[49m\u001b[43m,\u001b[49m\u001b[43m \u001b[49m\u001b[38;5;241;43m*\u001b[39;49m\u001b[38;5;241;43m*\u001b[39;49m\u001b[43mkwargs\u001b[49m\u001b[43m)\u001b[49m\n\u001b[1;32m   1073\u001b[0m \u001b[38;5;28;01mreturn\u001b[39;00m hdulist, ext\n",
      "File \u001b[0;32m~/anaconda3/envs/astcourse/lib/python3.9/site-packages/astropy/io/fits/hdu/hdulist.py:175\u001b[0m, in \u001b[0;36mfitsopen\u001b[0;34m(name, mode, memmap, save_backup, cache, lazy_load_hdus, ignore_missing_simple, **kwargs)\u001b[0m\n\u001b[1;32m    172\u001b[0m \u001b[38;5;28;01mif\u001b[39;00m \u001b[38;5;129;01mnot\u001b[39;00m name:\n\u001b[1;32m    173\u001b[0m     \u001b[38;5;28;01mraise\u001b[39;00m \u001b[38;5;167;01mValueError\u001b[39;00m(\u001b[38;5;124mf\u001b[39m\u001b[38;5;124m'\u001b[39m\u001b[38;5;124mEmpty filename: \u001b[39m\u001b[38;5;132;01m{\u001b[39;00mname\u001b[38;5;132;01m!r}\u001b[39;00m\u001b[38;5;124m'\u001b[39m)\n\u001b[0;32m--> 175\u001b[0m \u001b[38;5;28;01mreturn\u001b[39;00m \u001b[43mHDUList\u001b[49m\u001b[38;5;241;43m.\u001b[39;49m\u001b[43mfromfile\u001b[49m\u001b[43m(\u001b[49m\u001b[43mname\u001b[49m\u001b[43m,\u001b[49m\u001b[43m \u001b[49m\u001b[43mmode\u001b[49m\u001b[43m,\u001b[49m\u001b[43m \u001b[49m\u001b[43mmemmap\u001b[49m\u001b[43m,\u001b[49m\u001b[43m \u001b[49m\u001b[43msave_backup\u001b[49m\u001b[43m,\u001b[49m\u001b[43m \u001b[49m\u001b[43mcache\u001b[49m\u001b[43m,\u001b[49m\n\u001b[1;32m    176\u001b[0m \u001b[43m                        \u001b[49m\u001b[43mlazy_load_hdus\u001b[49m\u001b[43m,\u001b[49m\u001b[43m \u001b[49m\u001b[43mignore_missing_simple\u001b[49m\u001b[43m,\u001b[49m\u001b[43m \u001b[49m\u001b[38;5;241;43m*\u001b[39;49m\u001b[38;5;241;43m*\u001b[39;49m\u001b[43mkwargs\u001b[49m\u001b[43m)\u001b[49m\n",
      "File \u001b[0;32m~/anaconda3/envs/astcourse/lib/python3.9/site-packages/astropy/io/fits/hdu/hdulist.py:410\u001b[0m, in \u001b[0;36mHDUList.fromfile\u001b[0;34m(cls, fileobj, mode, memmap, save_backup, cache, lazy_load_hdus, ignore_missing_simple, **kwargs)\u001b[0m\n\u001b[1;32m    398\u001b[0m \u001b[38;5;129m@classmethod\u001b[39m\n\u001b[1;32m    399\u001b[0m \u001b[38;5;28;01mdef\u001b[39;00m \u001b[38;5;21mfromfile\u001b[39m(\u001b[38;5;28mcls\u001b[39m, fileobj, mode\u001b[38;5;241m=\u001b[39m\u001b[38;5;28;01mNone\u001b[39;00m, memmap\u001b[38;5;241m=\u001b[39m\u001b[38;5;28;01mNone\u001b[39;00m,\n\u001b[1;32m    400\u001b[0m              save_backup\u001b[38;5;241m=\u001b[39m\u001b[38;5;28;01mFalse\u001b[39;00m, cache\u001b[38;5;241m=\u001b[39m\u001b[38;5;28;01mTrue\u001b[39;00m, lazy_load_hdus\u001b[38;5;241m=\u001b[39m\u001b[38;5;28;01mTrue\u001b[39;00m,\n\u001b[1;32m    401\u001b[0m              ignore_missing_simple\u001b[38;5;241m=\u001b[39m\u001b[38;5;28;01mFalse\u001b[39;00m, \u001b[38;5;241m*\u001b[39m\u001b[38;5;241m*\u001b[39mkwargs):\n\u001b[1;32m    402\u001b[0m     \u001b[38;5;124;03m\"\"\"\u001b[39;00m\n\u001b[1;32m    403\u001b[0m \u001b[38;5;124;03m    Creates an `HDUList` instance from a file-like object.\u001b[39;00m\n\u001b[1;32m    404\u001b[0m \n\u001b[0;32m   (...)\u001b[0m\n\u001b[1;32m    407\u001b[0m \u001b[38;5;124;03m    documentation for details of the parameters accepted by this method).\u001b[39;00m\n\u001b[1;32m    408\u001b[0m \u001b[38;5;124;03m    \"\"\"\u001b[39;00m\n\u001b[0;32m--> 410\u001b[0m     \u001b[38;5;28;01mreturn\u001b[39;00m \u001b[38;5;28;43mcls\u001b[39;49m\u001b[38;5;241;43m.\u001b[39;49m\u001b[43m_readfrom\u001b[49m\u001b[43m(\u001b[49m\u001b[43mfileobj\u001b[49m\u001b[38;5;241;43m=\u001b[39;49m\u001b[43mfileobj\u001b[49m\u001b[43m,\u001b[49m\u001b[43m \u001b[49m\u001b[43mmode\u001b[49m\u001b[38;5;241;43m=\u001b[39;49m\u001b[43mmode\u001b[49m\u001b[43m,\u001b[49m\u001b[43m \u001b[49m\u001b[43mmemmap\u001b[49m\u001b[38;5;241;43m=\u001b[39;49m\u001b[43mmemmap\u001b[49m\u001b[43m,\u001b[49m\n\u001b[1;32m    411\u001b[0m \u001b[43m                         \u001b[49m\u001b[43msave_backup\u001b[49m\u001b[38;5;241;43m=\u001b[39;49m\u001b[43msave_backup\u001b[49m\u001b[43m,\u001b[49m\u001b[43m \u001b[49m\u001b[43mcache\u001b[49m\u001b[38;5;241;43m=\u001b[39;49m\u001b[43mcache\u001b[49m\u001b[43m,\u001b[49m\n\u001b[1;32m    412\u001b[0m \u001b[43m                         \u001b[49m\u001b[43mignore_missing_simple\u001b[49m\u001b[38;5;241;43m=\u001b[39;49m\u001b[43mignore_missing_simple\u001b[49m\u001b[43m,\u001b[49m\n\u001b[1;32m    413\u001b[0m \u001b[43m                         \u001b[49m\u001b[43mlazy_load_hdus\u001b[49m\u001b[38;5;241;43m=\u001b[39;49m\u001b[43mlazy_load_hdus\u001b[49m\u001b[43m,\u001b[49m\u001b[43m \u001b[49m\u001b[38;5;241;43m*\u001b[39;49m\u001b[38;5;241;43m*\u001b[39;49m\u001b[43mkwargs\u001b[49m\u001b[43m)\u001b[49m\n",
      "File \u001b[0;32m~/anaconda3/envs/astcourse/lib/python3.9/site-packages/astropy/io/fits/hdu/hdulist.py:1060\u001b[0m, in \u001b[0;36mHDUList._readfrom\u001b[0;34m(cls, fileobj, data, mode, memmap, cache, lazy_load_hdus, ignore_missing_simple, **kwargs)\u001b[0m\n\u001b[1;32m   1057\u001b[0m \u001b[38;5;28;01mif\u001b[39;00m fileobj \u001b[38;5;129;01mis\u001b[39;00m \u001b[38;5;129;01mnot\u001b[39;00m \u001b[38;5;28;01mNone\u001b[39;00m:\n\u001b[1;32m   1058\u001b[0m     \u001b[38;5;28;01mif\u001b[39;00m \u001b[38;5;129;01mnot\u001b[39;00m \u001b[38;5;28misinstance\u001b[39m(fileobj, _File):\n\u001b[1;32m   1059\u001b[0m         \u001b[38;5;66;03m# instantiate a FITS file object (ffo)\u001b[39;00m\n\u001b[0;32m-> 1060\u001b[0m         fileobj \u001b[38;5;241m=\u001b[39m \u001b[43m_File\u001b[49m\u001b[43m(\u001b[49m\u001b[43mfileobj\u001b[49m\u001b[43m,\u001b[49m\u001b[43m \u001b[49m\u001b[43mmode\u001b[49m\u001b[38;5;241;43m=\u001b[39;49m\u001b[43mmode\u001b[49m\u001b[43m,\u001b[49m\u001b[43m \u001b[49m\u001b[43mmemmap\u001b[49m\u001b[38;5;241;43m=\u001b[39;49m\u001b[43mmemmap\u001b[49m\u001b[43m,\u001b[49m\u001b[43m \u001b[49m\u001b[43mcache\u001b[49m\u001b[38;5;241;43m=\u001b[39;49m\u001b[43mcache\u001b[49m\u001b[43m)\u001b[49m\n\u001b[1;32m   1061\u001b[0m     \u001b[38;5;66;03m# The Astropy mode is determined by the _File initializer if the\u001b[39;00m\n\u001b[1;32m   1062\u001b[0m     \u001b[38;5;66;03m# supplied mode was None\u001b[39;00m\n\u001b[1;32m   1063\u001b[0m     mode \u001b[38;5;241m=\u001b[39m fileobj\u001b[38;5;241m.\u001b[39mmode\n",
      "File \u001b[0;32m~/anaconda3/envs/astcourse/lib/python3.9/site-packages/astropy/io/fits/file.py:170\u001b[0m, in \u001b[0;36m_File.__init__\u001b[0;34m(self, fileobj, mode, memmap, overwrite, cache)\u001b[0m\n\u001b[1;32m    168\u001b[0m     \u001b[38;5;28mself\u001b[39m\u001b[38;5;241m.\u001b[39m_open_fileobj(fileobj, mode, overwrite)\n\u001b[1;32m    169\u001b[0m \u001b[38;5;28;01melif\u001b[39;00m \u001b[38;5;28misinstance\u001b[39m(fileobj, (\u001b[38;5;28mstr\u001b[39m, \u001b[38;5;28mbytes\u001b[39m)):\n\u001b[0;32m--> 170\u001b[0m     \u001b[38;5;28;43mself\u001b[39;49m\u001b[38;5;241;43m.\u001b[39;49m\u001b[43m_open_filename\u001b[49m\u001b[43m(\u001b[49m\u001b[43mfileobj\u001b[49m\u001b[43m,\u001b[49m\u001b[43m \u001b[49m\u001b[43mmode\u001b[49m\u001b[43m,\u001b[49m\u001b[43m \u001b[49m\u001b[43moverwrite\u001b[49m\u001b[43m)\u001b[49m\n\u001b[1;32m    171\u001b[0m \u001b[38;5;28;01melse\u001b[39;00m:\n\u001b[1;32m    172\u001b[0m     \u001b[38;5;28mself\u001b[39m\u001b[38;5;241m.\u001b[39m_open_filelike(fileobj, mode, overwrite)\n",
      "File \u001b[0;32m~/anaconda3/envs/astcourse/lib/python3.9/site-packages/astropy/io/fits/file.py:562\u001b[0m, in \u001b[0;36m_File._open_filename\u001b[0;34m(self, filename, mode, overwrite)\u001b[0m\n\u001b[1;32m    559\u001b[0m ext \u001b[38;5;241m=\u001b[39m os\u001b[38;5;241m.\u001b[39mpath\u001b[38;5;241m.\u001b[39msplitext(\u001b[38;5;28mself\u001b[39m\u001b[38;5;241m.\u001b[39mname)[\u001b[38;5;241m1\u001b[39m]\n\u001b[1;32m    561\u001b[0m \u001b[38;5;28;01mif\u001b[39;00m \u001b[38;5;129;01mnot\u001b[39;00m \u001b[38;5;28mself\u001b[39m\u001b[38;5;241m.\u001b[39m_try_read_compressed(\u001b[38;5;28mself\u001b[39m\u001b[38;5;241m.\u001b[39mname, magic, mode, ext\u001b[38;5;241m=\u001b[39mext):\n\u001b[0;32m--> 562\u001b[0m     \u001b[38;5;28mself\u001b[39m\u001b[38;5;241m.\u001b[39m_file \u001b[38;5;241m=\u001b[39m \u001b[38;5;28;43mopen\u001b[39;49m\u001b[43m(\u001b[49m\u001b[38;5;28;43mself\u001b[39;49m\u001b[38;5;241;43m.\u001b[39;49m\u001b[43mname\u001b[49m\u001b[43m,\u001b[49m\u001b[43m \u001b[49m\u001b[43mIO_FITS_MODES\u001b[49m\u001b[43m[\u001b[49m\u001b[43mmode\u001b[49m\u001b[43m]\u001b[49m\u001b[43m)\u001b[49m\n\u001b[1;32m    563\u001b[0m     \u001b[38;5;28mself\u001b[39m\u001b[38;5;241m.\u001b[39mclose_on_error \u001b[38;5;241m=\u001b[39m \u001b[38;5;28;01mTrue\u001b[39;00m\n\u001b[1;32m    565\u001b[0m \u001b[38;5;66;03m# Make certain we're back at the beginning of the file\u001b[39;00m\n\u001b[1;32m    566\u001b[0m \u001b[38;5;66;03m# BZ2File does not support seek when the file is open for writing, but\u001b[39;00m\n\u001b[1;32m    567\u001b[0m \u001b[38;5;66;03m# when opening a file for write, bz2.BZ2File always truncates anyway.\u001b[39;00m\n",
      "\u001b[0;31mFileNotFoundError\u001b[0m: [Errno 2] No such file or directory: '/media/yterada/My Passport/course/adv_obs2022/Lulin_Data_20220409/hw8_data/20220409_lamp-001bin1_10s.fits'"
     ]
    }
   ],
   "source": [
    "flat1, dr = fits.getdata('/media/yterada/My Passport/course/adv_obs2022/Lulin_Data_20220409/hw8_data/20220409_lamp-001bin1_10s.fits',header=True)\n",
    "dr[:10]"
   ]
  },
  {
   "cell_type": "code",
   "execution_count": null,
   "id": "0a2259ac",
   "metadata": {},
   "outputs": [],
   "source": [
    "lamp, dr = fits.getdata('/media/yterada/My Passport/course/adv_obs2022/Lulin_Data_20220409/hw8_data/20220409_lamp-001bin1_10s.fits',header=True)\n",
    "dr[:10]"
   ]
  },
  {
   "cell_type": "code",
   "execution_count": null,
   "id": "cbb26e97",
   "metadata": {},
   "outputs": [],
   "source": [
    "dark1, dar = fits.getdata('/media/yterada/My Passport/course/adv_obs2022/Lulin_Data_20220409/hw8_data/20220409_dark-001bin1_dark10s.fits',header=True)\n",
    "dar[:10]"
   ]
  },
  {
   "cell_type": "code",
   "execution_count": null,
   "id": "5927b099",
   "metadata": {},
   "outputs": [],
   "source": [
    "imsize_y, imsize_x = 2208, 2758"
   ]
  },
  {
   "cell_type": "code",
   "execution_count": null,
   "id": "c2e80996",
   "metadata": {},
   "outputs": [],
   "source": [
    "biaspath    = os.path.join(data,'20220409_bias*.fits')\n",
    "darkpath    = os.path.join(data,'20220409_dark*.fits')\n",
    "\n",
    "biaslst = glob(biaspath)\n",
    "darklst = glob(darkpath)\n",
    "\n",
    "n_b = len(biaslst)\n",
    "n_d = len(darklst)"
   ]
  },
  {
   "cell_type": "code",
   "execution_count": 5,
   "id": "c294243c",
   "metadata": {},
   "outputs": [
    {
     "ename": "NameError",
     "evalue": "name 'imsize_y' is not defined",
     "output_type": "error",
     "traceback": [
      "\u001b[0;31m---------------------------------------------------------------------------\u001b[0m",
      "\u001b[0;31mNameError\u001b[0m                                 Traceback (most recent call last)",
      "Input \u001b[0;32mIn [5]\u001b[0m, in \u001b[0;36m<module>\u001b[0;34m\u001b[0m\n\u001b[0;32m----> 1\u001b[0m biasarray \u001b[38;5;241m=\u001b[39m np\u001b[38;5;241m.\u001b[39mzeros((\u001b[43mimsize_y\u001b[49m, imsize_x , n_b), dtype \u001b[38;5;241m=\u001b[39m np\u001b[38;5;241m.\u001b[39mfloat32) \n\u001b[1;32m      2\u001b[0m darkarray \u001b[38;5;241m=\u001b[39m np\u001b[38;5;241m.\u001b[39mzeros((imsize_y, imsize_x , n_d), dtype \u001b[38;5;241m=\u001b[39m np\u001b[38;5;241m.\u001b[39mfloat32)\n",
      "\u001b[0;31mNameError\u001b[0m: name 'imsize_y' is not defined"
     ]
    }
   ],
   "source": [
    "biasarray = np.zeros((imsize_y, imsize_x , n_b), dtype = np.float32) \n",
    "darkarray = np.zeros((imsize_y, imsize_x , n_d), dtype = np.float32) \n",
    "#flatarray = np.zeros((imsize_y, imsize_x , n_f), dtype = np.float32) "
   ]
  },
  {
   "cell_type": "code",
   "execution_count": 13,
   "id": "1d7cf056",
   "metadata": {},
   "outputs": [
    {
     "data": {
      "text/plain": [
       "<matplotlib.image.AxesImage at 0x7f192241a490>"
      ]
     },
     "execution_count": 13,
     "metadata": {},
     "output_type": "execute_result"
    },
    {
     "data": {
      "image/png": "[encoded data removed]",
      "text/plain": [
       "<Figure size 432x288 with 1 Axes>"
      ]
     },
     "metadata": {
      "needs_background": "light"
     },
     "output_type": "display_data"
    }
   ],
   "source": [
    "plt.imshow(lamp, cmap='gray')"
   ]
  },
  {
   "cell_type": "code",
   "execution_count": 14,
   "id": "d7e1e2e5",
   "metadata": {},
   "outputs": [],
   "source": [
    "for ii in range(0, n_b):\n",
    "    im = fits.getdata(biaslst[ii])\n",
    "    biasarray[:,:,ii] = im\n",
    "    \n",
    "for ii in range(0, n_d):\n",
    "    im = fits.getdata(darklst[ii])\n",
    "    darkarray[:,:,ii] = im"
   ]
  },
  {
   "cell_type": "code",
   "execution_count": 15,
   "id": "6a70aeb0",
   "metadata": {},
   "outputs": [],
   "source": [
    "med_bias = np.median(biasarray, axis = 2)\n",
    "med_dark = np.median(darkarray, axis = 2) - med_bias\n",
    "reduced_img = lamp - med_bias - med_dark"
   ]
  },
  {
   "cell_type": "code",
   "execution_count": 16,
   "id": "5dc62e37",
   "metadata": {},
   "outputs": [],
   "source": [
    "fits.writeto('reduced_img.fits', reduced_img,overwrite=True)"
   ]
  },
  {
   "cell_type": "code",
   "execution_count": 10,
   "id": "f7f3d817",
   "metadata": {},
   "outputs": [
    {
     "ename": "ValueError",
     "evalue": "'/media/yterada/My Passport/course/adv_obs2022/Lulin_Data_20220409/hw8_data/' did not parse as unit: At col 1, media is not a valid unit.  If this is meant to be a custom unit, define it with 'u.def_unit'. To have it recognized inside a file reader or other code, enable it with 'u.add_enabled_units'. For details, see https://docs.astropy.org/en/latest/units/combining_and_defining.html",
     "output_type": "error",
     "traceback": [
      "\u001b[0;31m---------------------------------------------------------------------------\u001b[0m",
      "\u001b[0;31mValueError\u001b[0m                                Traceback (most recent call last)",
      "File \u001b[0;32m~/anaconda3/envs/astcourse/lib/python3.9/site-packages/astropy/units/format/generic.py:613\u001b[0m, in \u001b[0;36mGeneric._do_parse\u001b[0;34m(cls, s, debug)\u001b[0m\n\u001b[1;32m    610\u001b[0m \u001b[38;5;28;01mtry\u001b[39;00m:\n\u001b[1;32m    611\u001b[0m     \u001b[38;5;66;03m# This is a short circuit for the case where the string\u001b[39;00m\n\u001b[1;32m    612\u001b[0m     \u001b[38;5;66;03m# is just a single unit name\u001b[39;00m\n\u001b[0;32m--> 613\u001b[0m     \u001b[38;5;28;01mreturn\u001b[39;00m \u001b[38;5;28;43mcls\u001b[39;49m\u001b[38;5;241;43m.\u001b[39;49m\u001b[43m_parse_unit\u001b[49m\u001b[43m(\u001b[49m\u001b[43ms\u001b[49m\u001b[43m,\u001b[49m\u001b[43m \u001b[49m\u001b[43mdetailed_exception\u001b[49m\u001b[38;5;241;43m=\u001b[39;49m\u001b[38;5;28;43;01mFalse\u001b[39;49;00m\u001b[43m)\u001b[49m\n\u001b[1;32m    614\u001b[0m \u001b[38;5;28;01mexcept\u001b[39;00m \u001b[38;5;167;01mValueError\u001b[39;00m \u001b[38;5;28;01mas\u001b[39;00m e:\n",
      "File \u001b[0;32m~/anaconda3/envs/astcourse/lib/python3.9/site-packages/astropy/units/format/generic.py:512\u001b[0m, in \u001b[0;36mGeneric._parse_unit\u001b[0;34m(cls, s, detailed_exception)\u001b[0m\n\u001b[1;32m    511\u001b[0m \u001b[38;5;28;01melse\u001b[39;00m:\n\u001b[0;32m--> 512\u001b[0m     \u001b[38;5;28;01mraise\u001b[39;00m \u001b[38;5;167;01mValueError\u001b[39;00m()\n",
      "\u001b[0;31mValueError\u001b[0m: ",
      "\nDuring handling of the above exception, another exception occurred:\n",
      "\u001b[0;31mValueError\u001b[0m                                Traceback (most recent call last)",
      "File \u001b[0;32m~/anaconda3/envs/astcourse/lib/python3.9/site-packages/astropy/units/format/generic.py:480\u001b[0m, in \u001b[0;36mGeneric._get_unit\u001b[0;34m(cls, t)\u001b[0m\n\u001b[1;32m    479\u001b[0m \u001b[38;5;28;01mtry\u001b[39;00m:\n\u001b[0;32m--> 480\u001b[0m     \u001b[38;5;28;01mreturn\u001b[39;00m \u001b[38;5;28;43mcls\u001b[39;49m\u001b[38;5;241;43m.\u001b[39;49m\u001b[43m_parse_unit\u001b[49m\u001b[43m(\u001b[49m\u001b[43mt\u001b[49m\u001b[38;5;241;43m.\u001b[39;49m\u001b[43mvalue\u001b[49m\u001b[43m)\u001b[49m\n\u001b[1;32m    481\u001b[0m \u001b[38;5;28;01mexcept\u001b[39;00m \u001b[38;5;167;01mValueError\u001b[39;00m \u001b[38;5;28;01mas\u001b[39;00m e:\n",
      "File \u001b[0;32m~/anaconda3/envs/astcourse/lib/python3.9/site-packages/astropy/units/format/generic.py:509\u001b[0m, in \u001b[0;36mGeneric._parse_unit\u001b[0;34m(cls, s, detailed_exception)\u001b[0m\n\u001b[1;32m    508\u001b[0m \u001b[38;5;28;01mif\u001b[39;00m detailed_exception:\n\u001b[0;32m--> 509\u001b[0m     \u001b[38;5;28;01mraise\u001b[39;00m \u001b[38;5;167;01mValueError\u001b[39;00m(\n\u001b[1;32m    510\u001b[0m         \u001b[38;5;124mf\u001b[39m\u001b[38;5;124m'\u001b[39m\u001b[38;5;132;01m{\u001b[39;00ms\u001b[38;5;132;01m}\u001b[39;00m\u001b[38;5;124m is not a valid unit. \u001b[39m\u001b[38;5;132;01m{\u001b[39;00mdid_you_mean(s, registry)\u001b[38;5;132;01m}\u001b[39;00m\u001b[38;5;124m'\u001b[39m)\n\u001b[1;32m    511\u001b[0m \u001b[38;5;28;01melse\u001b[39;00m:\n",
      "\u001b[0;31mValueError\u001b[0m: media is not a valid unit. ",
      "\nDuring handling of the above exception, another exception occurred:\n",
      "\u001b[0;31mValueError\u001b[0m                                Traceback (most recent call last)",
      "File \u001b[0;32m~/anaconda3/envs/astcourse/lib/python3.9/site-packages/astropy/units/core.py:2018\u001b[0m, in \u001b[0;36m_UnitMetaClass.__call__\u001b[0;34m(self, s, represents, format, namespace, doc, parse_strict)\u001b[0m\n\u001b[1;32m   2017\u001b[0m \u001b[38;5;28;01mtry\u001b[39;00m:\n\u001b[0;32m-> 2018\u001b[0m     \u001b[38;5;28;01mreturn\u001b[39;00m \u001b[43mf\u001b[49m\u001b[38;5;241;43m.\u001b[39;49m\u001b[43mparse\u001b[49m\u001b[43m(\u001b[49m\u001b[43ms\u001b[49m\u001b[43m)\u001b[49m\n\u001b[1;32m   2019\u001b[0m \u001b[38;5;28;01mexcept\u001b[39;00m \u001b[38;5;167;01mNotImplementedError\u001b[39;00m:\n",
      "File \u001b[0;32m~/anaconda3/envs/astcourse/lib/python3.9/site-packages/astropy/units/format/generic.py:598\u001b[0m, in \u001b[0;36mGeneric.parse\u001b[0;34m(cls, s, debug)\u001b[0m\n\u001b[1;32m    596\u001b[0m     s \u001b[38;5;241m=\u001b[39m \u001b[38;5;28mcls\u001b[39m\u001b[38;5;241m.\u001b[39m_regex_deg\u001b[38;5;241m.\u001b[39msub(\u001b[38;5;28mcls\u001b[39m\u001b[38;5;241m.\u001b[39m_convert_deg, s)\n\u001b[0;32m--> 598\u001b[0m result \u001b[38;5;241m=\u001b[39m \u001b[38;5;28;43mcls\u001b[39;49m\u001b[38;5;241;43m.\u001b[39;49m\u001b[43m_do_parse\u001b[49m\u001b[43m(\u001b[49m\u001b[43ms\u001b[49m\u001b[43m,\u001b[49m\u001b[43m \u001b[49m\u001b[43mdebug\u001b[49m\u001b[38;5;241;43m=\u001b[39;49m\u001b[43mdebug\u001b[49m\u001b[43m)\u001b[49m\n\u001b[1;32m    599\u001b[0m \u001b[38;5;66;03m# Check for excess solidi, but exclude fractional exponents (accepted)\u001b[39;00m\n",
      "File \u001b[0;32m~/anaconda3/envs/astcourse/lib/python3.9/site-packages/astropy/units/format/generic.py:616\u001b[0m, in \u001b[0;36mGeneric._do_parse\u001b[0;34m(cls, s, debug)\u001b[0m\n\u001b[1;32m    615\u001b[0m \u001b[38;5;28;01mtry\u001b[39;00m:\n\u001b[0;32m--> 616\u001b[0m     \u001b[38;5;28;01mreturn\u001b[39;00m \u001b[38;5;28;43mcls\u001b[39;49m\u001b[38;5;241;43m.\u001b[39;49m\u001b[43m_parser\u001b[49m\u001b[38;5;241;43m.\u001b[39;49m\u001b[43mparse\u001b[49m\u001b[43m(\u001b[49m\u001b[43ms\u001b[49m\u001b[43m,\u001b[49m\u001b[43m \u001b[49m\u001b[43mlexer\u001b[49m\u001b[38;5;241;43m=\u001b[39;49m\u001b[38;5;28;43mcls\u001b[39;49m\u001b[38;5;241;43m.\u001b[39;49m\u001b[43m_lexer\u001b[49m\u001b[43m,\u001b[49m\u001b[43m \u001b[49m\u001b[43mdebug\u001b[49m\u001b[38;5;241;43m=\u001b[39;49m\u001b[43mdebug\u001b[49m\u001b[43m)\u001b[49m\n\u001b[1;32m    617\u001b[0m \u001b[38;5;28;01mexcept\u001b[39;00m \u001b[38;5;167;01mValueError\u001b[39;00m \u001b[38;5;28;01mas\u001b[39;00m e:\n",
      "File \u001b[0;32m~/anaconda3/envs/astcourse/lib/python3.9/site-packages/astropy/utils/parsing.py:115\u001b[0m, in \u001b[0;36mThreadSafeParser.parse\u001b[0;34m(self, *args, **kwargs)\u001b[0m\n\u001b[1;32m    114\u001b[0m \u001b[38;5;28;01mwith\u001b[39;00m \u001b[38;5;28mself\u001b[39m\u001b[38;5;241m.\u001b[39m_lock:\n\u001b[0;32m--> 115\u001b[0m     \u001b[38;5;28;01mreturn\u001b[39;00m \u001b[38;5;28;43mself\u001b[39;49m\u001b[38;5;241;43m.\u001b[39;49m\u001b[43mparser\u001b[49m\u001b[38;5;241;43m.\u001b[39;49m\u001b[43mparse\u001b[49m\u001b[43m(\u001b[49m\u001b[38;5;241;43m*\u001b[39;49m\u001b[43margs\u001b[49m\u001b[43m,\u001b[49m\u001b[43m \u001b[49m\u001b[38;5;241;43m*\u001b[39;49m\u001b[38;5;241;43m*\u001b[39;49m\u001b[43mkwargs\u001b[49m\u001b[43m)\u001b[49m\n",
      "File \u001b[0;32m~/anaconda3/envs/astcourse/lib/python3.9/site-packages/astropy/extern/ply/yacc.py:333\u001b[0m, in \u001b[0;36mLRParser.parse\u001b[0;34m(self, input, lexer, debug, tracking, tokenfunc)\u001b[0m\n\u001b[1;32m    332\u001b[0m \u001b[38;5;28;01melse\u001b[39;00m:\n\u001b[0;32m--> 333\u001b[0m     \u001b[38;5;28;01mreturn\u001b[39;00m \u001b[38;5;28;43mself\u001b[39;49m\u001b[38;5;241;43m.\u001b[39;49m\u001b[43mparseopt_notrack\u001b[49m\u001b[43m(\u001b[49m\u001b[38;5;28;43minput\u001b[39;49m\u001b[43m,\u001b[49m\u001b[43m \u001b[49m\u001b[43mlexer\u001b[49m\u001b[43m,\u001b[49m\u001b[43m \u001b[49m\u001b[43mdebug\u001b[49m\u001b[43m,\u001b[49m\u001b[43m \u001b[49m\u001b[43mtracking\u001b[49m\u001b[43m,\u001b[49m\u001b[43m \u001b[49m\u001b[43mtokenfunc\u001b[49m\u001b[43m)\u001b[49m\n",
      "File \u001b[0;32m~/anaconda3/envs/astcourse/lib/python3.9/site-packages/astropy/extern/ply/yacc.py:1063\u001b[0m, in \u001b[0;36mLRParser.parseopt_notrack\u001b[0;34m(self, input, lexer, debug, tracking, tokenfunc)\u001b[0m\n\u001b[1;32m   1062\u001b[0m \u001b[38;5;28;01mif\u001b[39;00m \u001b[38;5;129;01mnot\u001b[39;00m lookaheadstack:\n\u001b[0;32m-> 1063\u001b[0m     lookahead \u001b[38;5;241m=\u001b[39m \u001b[43mget_token\u001b[49m\u001b[43m(\u001b[49m\u001b[43m)\u001b[49m     \u001b[38;5;66;03m# Get the next token\u001b[39;00m\n\u001b[1;32m   1064\u001b[0m \u001b[38;5;28;01melse\u001b[39;00m:\n",
      "File \u001b[0;32m~/anaconda3/envs/astcourse/lib/python3.9/site-packages/astropy/extern/ply/lex.py:350\u001b[0m, in \u001b[0;36mLexer.token\u001b[0;34m(self)\u001b[0m\n\u001b[1;32m    348\u001b[0m \u001b[38;5;28mself\u001b[39m\u001b[38;5;241m.\u001b[39mlexpos \u001b[38;5;241m=\u001b[39m lexpos\n\u001b[0;32m--> 350\u001b[0m newtok \u001b[38;5;241m=\u001b[39m \u001b[43mfunc\u001b[49m\u001b[43m(\u001b[49m\u001b[43mtok\u001b[49m\u001b[43m)\u001b[49m\n\u001b[1;32m    352\u001b[0m \u001b[38;5;66;03m# Every function must return a token, if nothing, we just move to next token\u001b[39;00m\n",
      "File \u001b[0;32m~/anaconda3/envs/astcourse/lib/python3.9/site-packages/astropy/units/format/generic.py:153\u001b[0m, in \u001b[0;36mGeneric._make_lexer.<locals>.t_UNIT\u001b[0;34m(t)\u001b[0m\n\u001b[1;32m    152\u001b[0m \u001b[38;5;124m\"\u001b[39m\u001b[38;5;124m%\u001b[39m\u001b[38;5;124m|([YZEPTGMkhdcmu\u001b[39m\u001b[38;5;130;01m\\N{MICRO SIGN}\u001b[39;00m\u001b[38;5;124mnpfazy]?\u001b[39m\u001b[38;5;124m'\u001b[39m\u001b[38;5;124m((?!\u001b[39m\u001b[38;5;130;01m\\\\\u001b[39;00m\u001b[38;5;124md)\u001b[39m\u001b[38;5;130;01m\\\\\u001b[39;00m\u001b[38;5;124mw)+\u001b[39m\u001b[38;5;124m'\u001b[39m\u001b[38;5;124m)|((?!\u001b[39m\u001b[38;5;130;01m\\\\\u001b[39;00m\u001b[38;5;124md)\u001b[39m\u001b[38;5;130;01m\\\\\u001b[39;00m\u001b[38;5;124mw)+\u001b[39m\u001b[38;5;124m\"\u001b[39m\n\u001b[0;32m--> 153\u001b[0m t\u001b[38;5;241m.\u001b[39mvalue \u001b[38;5;241m=\u001b[39m \u001b[38;5;28;43mcls\u001b[39;49m\u001b[38;5;241;43m.\u001b[39;49m\u001b[43m_get_unit\u001b[49m\u001b[43m(\u001b[49m\u001b[43mt\u001b[49m\u001b[43m)\u001b[49m\n\u001b[1;32m    154\u001b[0m \u001b[38;5;28;01mreturn\u001b[39;00m t\n",
      "File \u001b[0;32m~/anaconda3/envs/astcourse/lib/python3.9/site-packages/astropy/units/format/generic.py:486\u001b[0m, in \u001b[0;36mGeneric._get_unit\u001b[0;34m(cls, t)\u001b[0m\n\u001b[1;32m    484\u001b[0m     \u001b[38;5;28;01mreturn\u001b[39;00m registry\u001b[38;5;241m.\u001b[39maliases[t\u001b[38;5;241m.\u001b[39mvalue]\n\u001b[0;32m--> 486\u001b[0m \u001b[38;5;28;01mraise\u001b[39;00m \u001b[38;5;167;01mValueError\u001b[39;00m(\n\u001b[1;32m    487\u001b[0m     \u001b[38;5;124mf\u001b[39m\u001b[38;5;124m\"\u001b[39m\u001b[38;5;124mAt col \u001b[39m\u001b[38;5;132;01m{\u001b[39;00mt\u001b[38;5;241m.\u001b[39mlexpos\u001b[38;5;132;01m}\u001b[39;00m\u001b[38;5;124m, \u001b[39m\u001b[38;5;132;01m{\u001b[39;00m\u001b[38;5;28mstr\u001b[39m(e)\u001b[38;5;132;01m}\u001b[39;00m\u001b[38;5;124m\"\u001b[39m)\n",
      "\u001b[0;31mValueError\u001b[0m: At col 1, media is not a valid unit. ",
      "\nDuring handling of the above exception, another exception occurred:\n",
      "\u001b[0;31mValueError\u001b[0m                                Traceback (most recent call last)",
      "Input \u001b[0;32mIn [10]\u001b[0m, in \u001b[0;36m<module>\u001b[0;34m\u001b[0m\n\u001b[0;32m----> 1\u001b[0m flux\u001b[38;5;241m=\u001b[39m \u001b[43mdata\u001b[49m\u001b[43m \u001b[49m\u001b[38;5;241;43m*\u001b[39;49m\u001b[43m \u001b[49m\u001b[43mu\u001b[49m\u001b[38;5;241;43m.\u001b[39;49m\u001b[43mJy\u001b[49m\n\u001b[1;32m      3\u001b[0m \u001b[38;5;66;03m#create a Spectrum1D object with specutils\u001b[39;00m\n\u001b[1;32m      4\u001b[0m spec \u001b[38;5;241m=\u001b[39m Spectrum1D(flux\u001b[38;5;241m=\u001b[39mflux)\n",
      "File \u001b[0;32m~/anaconda3/envs/astcourse/lib/python3.9/site-packages/astropy/units/core.py:833\u001b[0m, in \u001b[0;36mUnitBase.__rmul__\u001b[0;34m(self, m)\u001b[0m\n\u001b[1;32m    831\u001b[0m \u001b[38;5;28;01mdef\u001b[39;00m \u001b[38;5;21m__rmul__\u001b[39m(\u001b[38;5;28mself\u001b[39m, m):\n\u001b[1;32m    832\u001b[0m     \u001b[38;5;28;01mif\u001b[39;00m \u001b[38;5;28misinstance\u001b[39m(m, (\u001b[38;5;28mbytes\u001b[39m, \u001b[38;5;28mstr\u001b[39m)):\n\u001b[0;32m--> 833\u001b[0m         \u001b[38;5;28;01mreturn\u001b[39;00m \u001b[43mUnit\u001b[49m\u001b[43m(\u001b[49m\u001b[43mm\u001b[49m\u001b[43m)\u001b[49m \u001b[38;5;241m*\u001b[39m \u001b[38;5;28mself\u001b[39m\n\u001b[1;32m    835\u001b[0m     \u001b[38;5;66;03m# Cannot handle this as Unit.  Here, m cannot be a Quantity,\u001b[39;00m\n\u001b[1;32m    836\u001b[0m     \u001b[38;5;66;03m# so we make it into one, fasttracking when it does not have a unit\u001b[39;00m\n\u001b[1;32m    837\u001b[0m     \u001b[38;5;66;03m# for the common case of <array> * <unit>.\u001b[39;00m\n\u001b[1;32m    838\u001b[0m     \u001b[38;5;28;01mtry\u001b[39;00m:\n",
      "File \u001b[0;32m~/anaconda3/envs/astcourse/lib/python3.9/site-packages/astropy/units/core.py:2040\u001b[0m, in \u001b[0;36m_UnitMetaClass.__call__\u001b[0;34m(self, s, represents, format, namespace, doc, parse_strict)\u001b[0m\n\u001b[1;32m   2031\u001b[0m msg \u001b[38;5;241m=\u001b[39m (\u001b[38;5;124m\"\u001b[39m\u001b[38;5;124m'\u001b[39m\u001b[38;5;132;01m{}\u001b[39;00m\u001b[38;5;124m'\u001b[39m\u001b[38;5;124m did not parse as \u001b[39m\u001b[38;5;132;01m{}\u001b[39;00m\u001b[38;5;124munit: \u001b[39m\u001b[38;5;132;01m{}\u001b[39;00m\u001b[38;5;124m \u001b[39m\u001b[38;5;124m\"\u001b[39m\n\u001b[1;32m   2032\u001b[0m        \u001b[38;5;124m\"\u001b[39m\u001b[38;5;124mIf this is meant to be a custom unit, \u001b[39m\u001b[38;5;124m\"\u001b[39m\n\u001b[1;32m   2033\u001b[0m        \u001b[38;5;124m\"\u001b[39m\u001b[38;5;124mdefine it with \u001b[39m\u001b[38;5;124m'\u001b[39m\u001b[38;5;124mu.def_unit\u001b[39m\u001b[38;5;124m'\u001b[39m\u001b[38;5;124m. To have it \u001b[39m\u001b[38;5;124m\"\u001b[39m\n\u001b[0;32m   (...)\u001b[0m\n\u001b[1;32m   2037\u001b[0m        \u001b[38;5;124m\"\u001b[39m\u001b[38;5;124mhttps://docs.astropy.org/en/latest/units/combining_and_defining.html\u001b[39m\u001b[38;5;124m\"\u001b[39m\n\u001b[1;32m   2038\u001b[0m        \u001b[38;5;241m.\u001b[39mformat(s, format_clause, \u001b[38;5;28mstr\u001b[39m(e)))\n\u001b[1;32m   2039\u001b[0m \u001b[38;5;28;01mif\u001b[39;00m parse_strict \u001b[38;5;241m==\u001b[39m \u001b[38;5;124m'\u001b[39m\u001b[38;5;124mraise\u001b[39m\u001b[38;5;124m'\u001b[39m:\n\u001b[0;32m-> 2040\u001b[0m     \u001b[38;5;28;01mraise\u001b[39;00m \u001b[38;5;167;01mValueError\u001b[39;00m(msg)\n\u001b[1;32m   2041\u001b[0m \u001b[38;5;28;01melif\u001b[39;00m parse_strict \u001b[38;5;241m==\u001b[39m \u001b[38;5;124m'\u001b[39m\u001b[38;5;124mwarn\u001b[39m\u001b[38;5;124m'\u001b[39m:\n\u001b[1;32m   2042\u001b[0m     warnings\u001b[38;5;241m.\u001b[39mwarn(msg, UnitsWarning)\n",
      "\u001b[0;31mValueError\u001b[0m: '/media/yterada/My Passport/course/adv_obs2022/Lulin_Data_20220409/hw8_data/' did not parse as unit: At col 1, media is not a valid unit.  If this is meant to be a custom unit, define it with 'u.def_unit'. To have it recognized inside a file reader or other code, enable it with 'u.add_enabled_units'. For details, see https://docs.astropy.org/en/latest/units/combining_and_defining.html"
     ]
    }
   ],
   "source": [
    "flux= data * u.Jy\n",
    "\n",
    "#create a Spectrum1D object with specutils\n",
    "spec = Spectrum1D(flux=flux)#, wcs=wcs_data)"
   ]
  },
  {
   "cell_type": "code",
   "execution_count": null,
   "id": "384c8ac2",
   "metadata": {
    "scrolled": true
   },
   "outputs": [],
   "source": [
    "raw,hed = fits.getdata(image_fits, header=True)\n",
    "hed"
   ]
  },
  {
   "cell_type": "code",
   "execution_count": 25,
   "id": "86052347",
   "metadata": {},
   "outputs": [
    {
     "data": {
      "text/plain": [
       "<matplotlib.colorbar.Colorbar at 0x7f18f5374c10>"
      ]
     },
     "execution_count": 25,
     "metadata": {},
     "output_type": "execute_result"
    },
    {
     "data": {
      "image/png": "[encoded data removed]",
      "text/plain": [
       "<Figure size 432x288 with 2 Axes>"
      ]
     },
     "metadata": {
      "needs_background": "light"
     },
     "output_type": "display_data"
    }
   ],
   "source": [
    "plt.clf()\n",
    "plt.imshow(specdata, origin='lower', vmin = -10, vmax=1500)\n",
    "plt.colorbar()"
   ]
  },
  {
   "cell_type": "code",
   "execution_count": 16,
   "id": "58502c53",
   "metadata": {
    "scrolled": true
   },
   "outputs": [
    {
     "data": {
      "text/plain": [
       "Text(0, 0.5, 'intensity')"
      ]
     },
     "execution_count": 16,
     "metadata": {},
     "output_type": "execute_result"
    },
    {
     "data": {
      "image/png": "[encoded data removed]",
      "text/plain": [
       "<Figure size 432x288 with 1 Axes>"
      ]
     },
     "metadata": {
      "needs_background": "light"
     },
     "output_type": "display_data"
    }
   ],
   "source": [
    "profile = specdata.mean(axis=0)\n",
    "plt.figure()\n",
    "plt.plot(profile)\n",
    "plt.xlabel('pixel coordinate')\n",
    "plt.ylabel('intensity')\n",
    "#plt.savefig('1-D_spectrum.png')"
   ]
  },
  {
   "cell_type": "code",
   "execution_count": null,
   "id": "45429eab",
   "metadata": {},
   "outputs": [],
   "source": [
    "list_y = []\n",
    "for num in range(len(profile)):\n",
    "    list_y.append(param[0]*num/np.sqrt(num**2+param[1]**2))\n",
    "    \n",
    "array_y = np.array(list_y)\n",
    "plt.figure(figsize=(10,6))\n",
    "plt.plot(array_y, profile)\n",
    "plt.xlabel('wavelength')\n",
    "plt.ylabel('intensity')"
   ]
  },
  {
   "cell_type": "code",
   "execution_count": null,
   "id": "9da0941d",
   "metadata": {},
   "outputs": [],
   "source": []
  },
  {
   "cell_type": "code",
   "execution_count": null,
   "id": "df90aac6",
   "metadata": {},
   "outputs": [],
   "source": []
  },
  {
   "cell_type": "markdown",
   "id": "a1748f3e",
   "metadata": {},
   "source": [
    "### HW8-3c"
   ]
  },
  {
   "cell_type": "code",
   "execution_count": 11,
   "id": "0f0a6845",
   "metadata": {},
   "outputs": [],
   "source": [
    "x = np.array([1360,1971,2026,2198,2264,2335,2383,2504,2539,2594])\n",
    "y = np.array([5852.488,6965.431,7067.218,7383.98,7503.869,7635.106,7723.761,7948.176,8014.786,8115.311])"
   ]
  },
  {
   "cell_type": "code",
   "execution_count": 12,
   "id": "cef650f0",
   "metadata": {},
   "outputs": [],
   "source": [
    "def nonlin(x,a,b):\n",
    "    return a*x/np.sqrt(x**2+b**2)\n",
    "\n",
    "def lin(x,a,b):\n",
    "    return a*x + b"
   ]
  },
  {
   "cell_type": "code",
   "execution_count": 13,
   "id": "fb9479fd",
   "metadata": {},
   "outputs": [],
   "source": [
    "param_lin, cov_lin = curve_fit(lin, x,y)"
   ]
  },
  {
   "cell_type": "code",
   "execution_count": 59,
   "id": "627c0830",
   "metadata": {},
   "outputs": [],
   "source": [
    "param, cov = curve_fit(nonlin, x, y)"
   ]
  },
  {
   "cell_type": "markdown",
   "id": "10eced3e",
   "metadata": {},
   "source": [
    "$$\n",
    "\\lambda = \\frac{10075.57710061 \\times x}{\\sqrt{x^2 + 1991.12445728^2}}\n",
    "$$"
   ]
  },
  {
   "cell_type": "code",
   "execution_count": null,
   "id": "650df6b6",
   "metadata": {},
   "outputs": [],
   "source": []
  },
  {
   "cell_type": "code",
   "execution_count": null,
   "id": "ba657103",
   "metadata": {},
   "outputs": [],
   "source": []
  },
  {
   "cell_type": "code",
   "execution_count": null,
   "id": "bed55618",
   "metadata": {},
   "outputs": [],
   "source": []
  },
  {
   "cell_type": "code",
   "execution_count": 19,
   "id": "9c7576e6",
   "metadata": {},
   "outputs": [],
   "source": [
    "param_lin, cov_lin = curve_fit(lin, x,y)"
   ]
  },
  {
   "cell_type": "code",
   "execution_count": 20,
   "id": "f20f1b13",
   "metadata": {},
   "outputs": [
    {
     "data": {
      "text/plain": [
       "array([1.83457280e+00, 3.35303088e+03])"
      ]
     },
     "execution_count": 20,
     "metadata": {},
     "output_type": "execute_result"
    }
   ],
   "source": [
    "param_lin"
   ]
  },
  {
   "cell_type": "markdown",
   "id": "868f11d1",
   "metadata": {},
   "source": [
    "$$\n",
    "\\lambda = 1.83 \\times x + 3.35\n",
    "$$"
   ]
  },
  {
   "cell_type": "code",
   "execution_count": 21,
   "id": "e5aea043",
   "metadata": {},
   "outputs": [],
   "source": [
    "list_y = []\n",
    "for num in range(len(profile)):\n",
    "    list_y.append(param_lin[0]*num + param_lin[1])\n",
    "    \n",
    "array_y = np.array(list_y)"
   ]
  },
  {
   "cell_type": "code",
   "execution_count": 22,
   "id": "633f80c4",
   "metadata": {},
   "outputs": [
    {
     "data": {
      "text/plain": [
       "[<matplotlib.lines.Line2D at 0x7fb7f76bb730>]"
      ]
     },
     "execution_count": 22,
     "metadata": {},
     "output_type": "execute_result"
    },
    {
     "data": {
      "image/png": "[encoded data removed]",
      "text/plain": [
       "<Figure size 720x288 with 1 Axes>"
      ]
     },
     "metadata": {
      "needs_background": "light"
     },
     "output_type": "display_data"
    }
   ],
   "source": [
    "wave = np.linspace(3900, 8300, len(profile))\n",
    "plt.figure(figsize=(10,4))\n",
    "plt.plot(array_y, profile)\n",
    "#plt.xlim(6000,8300)"
   ]
  },
  {
   "cell_type": "code",
   "execution_count": null,
   "id": "71c24a64",
   "metadata": {},
   "outputs": [],
   "source": [
    "Ne 5852.488   \n",
    "Ar 6965.431   \n",
    "Ar 7067.218    \n",
    "Ar 7383.98   \n",
    "Ar 7503.869 + Ar 7514.652   \n",
    "Ar 7635.106    \n",
    "Ar 7723.761   \n",
    "Ar 7948.176   \n",
    "Ar 8006.157 + Ar 8014.786   \n",
    "Ar 8115.311 + Ar 8103.693"
   ]
  },
  {
   "cell_type": "markdown",
   "id": "7c5c00dc",
   "metadata": {},
   "source": [
    "### HW8-3 bonus"
   ]
  },
  {
   "cell_type": "markdown",
   "id": "cf12a1f8",
   "metadata": {},
   "source": [
    "The conversion is not linear."
   ]
  },
  {
   "cell_type": "code",
   "execution_count": null,
   "id": "07aa9393",
   "metadata": {},
   "outputs": [],
   "source": []
  },
  {
   "cell_type": "code",
   "execution_count": 71,
   "id": "47754615",
   "metadata": {},
   "outputs": [
    {
     "data": {
      "text/html": [
       "<div>\n",
       "<style scoped>\n",
       "    .dataframe tbody tr th:only-of-type {\n",
       "        vertical-align: middle;\n",
       "    }\n",
       "\n",
       "    .dataframe tbody tr th {\n",
       "        vertical-align: top;\n",
       "    }\n",
       "\n",
       "    .dataframe thead th {\n",
       "        text-align: right;\n",
       "    }\n",
       "</style>\n",
       "<table border=\"1\" class=\"dataframe\">\n",
       "  <thead>\n",
       "    <tr style=\"text-align: right;\">\n",
       "      <th></th>\n",
       "      <th>flux</th>\n",
       "      <th>wavelength</th>\n",
       "      <th>wave</th>\n",
       "    </tr>\n",
       "  </thead>\n",
       "  <tbody>\n",
       "    <tr>\n",
       "      <th>1360</th>\n",
       "      <td>86.276718</td>\n",
       "      <td>6070.475154</td>\n",
       "      <td>5682.830850</td>\n",
       "    </tr>\n",
       "    <tr>\n",
       "      <th>1969</th>\n",
       "      <td>130.386551</td>\n",
       "      <td>7042.401161</td>\n",
       "      <td>7084.595062</td>\n",
       "    </tr>\n",
       "    <tr>\n",
       "      <th>1970</th>\n",
       "      <td>162.263809</td>\n",
       "      <td>7043.997098</td>\n",
       "      <td>7086.413512</td>\n",
       "    </tr>\n",
       "    <tr>\n",
       "      <th>1971</th>\n",
       "      <td>169.217163</td>\n",
       "      <td>7045.593036</td>\n",
       "      <td>7088.230592</td>\n",
       "    </tr>\n",
       "    <tr>\n",
       "      <th>1972</th>\n",
       "      <td>117.331520</td>\n",
       "      <td>7047.188974</td>\n",
       "      <td>7090.046305</td>\n",
       "    </tr>\n",
       "    <tr>\n",
       "      <th>2026</th>\n",
       "      <td>87.147415</td>\n",
       "      <td>7133.369605</td>\n",
       "      <td>7186.091060</td>\n",
       "    </tr>\n",
       "    <tr>\n",
       "      <th>2027</th>\n",
       "      <td>81.236862</td>\n",
       "      <td>7134.965542</td>\n",
       "      <td>7187.833081</td>\n",
       "    </tr>\n",
       "    <tr>\n",
       "      <th>2197</th>\n",
       "      <td>104.382698</td>\n",
       "      <td>7406.274937</td>\n",
       "      <td>7465.713556</td>\n",
       "    </tr>\n",
       "    <tr>\n",
       "      <th>2198</th>\n",
       "      <td>140.350769</td>\n",
       "      <td>7407.870874</td>\n",
       "      <td>7467.245412</td>\n",
       "    </tr>\n",
       "    <tr>\n",
       "      <th>2199</th>\n",
       "      <td>141.224182</td>\n",
       "      <td>7409.466812</td>\n",
       "      <td>7468.776120</td>\n",
       "    </tr>\n",
       "    <tr>\n",
       "      <th>2200</th>\n",
       "      <td>115.839218</td>\n",
       "      <td>7411.062749</td>\n",
       "      <td>7470.305682</td>\n",
       "    </tr>\n",
       "    <tr>\n",
       "      <th>2261</th>\n",
       "      <td>193.922775</td>\n",
       "      <td>7508.414944</td>\n",
       "      <td>7561.475678</td>\n",
       "    </tr>\n",
       "    <tr>\n",
       "      <th>2262</th>\n",
       "      <td>442.581512</td>\n",
       "      <td>7510.010881</td>\n",
       "      <td>7562.935880</td>\n",
       "    </tr>\n",
       "    <tr>\n",
       "      <th>2263</th>\n",
       "      <td>654.476685</td>\n",
       "      <td>7511.606819</td>\n",
       "      <td>7564.394990</td>\n",
       "    </tr>\n",
       "    <tr>\n",
       "      <th>2264</th>\n",
       "      <td>684.969421</td>\n",
       "      <td>7513.202757</td>\n",
       "      <td>7565.853010</td>\n",
       "    </tr>\n",
       "    <tr>\n",
       "      <th>2265</th>\n",
       "      <td>589.346680</td>\n",
       "      <td>7514.798694</td>\n",
       "      <td>7567.309942</td>\n",
       "    </tr>\n",
       "    <tr>\n",
       "      <th>2266</th>\n",
       "      <td>350.227814</td>\n",
       "      <td>7516.394632</td>\n",
       "      <td>7568.765785</td>\n",
       "    </tr>\n",
       "    <tr>\n",
       "      <th>2267</th>\n",
       "      <td>169.197922</td>\n",
       "      <td>7517.990569</td>\n",
       "      <td>7570.220542</td>\n",
       "    </tr>\n",
       "    <tr>\n",
       "      <th>2268</th>\n",
       "      <td>191.788727</td>\n",
       "      <td>7519.586507</td>\n",
       "      <td>7571.674212</td>\n",
       "    </tr>\n",
       "    <tr>\n",
       "      <th>2269</th>\n",
       "      <td>237.935684</td>\n",
       "      <td>7521.182445</td>\n",
       "      <td>7573.126796</td>\n",
       "    </tr>\n",
       "    <tr>\n",
       "      <th>2270</th>\n",
       "      <td>237.916672</td>\n",
       "      <td>7522.778382</td>\n",
       "      <td>7574.578296</td>\n",
       "    </tr>\n",
       "    <tr>\n",
       "      <th>2271</th>\n",
       "      <td>192.606888</td>\n",
       "      <td>7524.374320</td>\n",
       "      <td>7576.028712</td>\n",
       "    </tr>\n",
       "    <tr>\n",
       "      <th>2272</th>\n",
       "      <td>99.597145</td>\n",
       "      <td>7525.970258</td>\n",
       "      <td>7577.478045</td>\n",
       "    </tr>\n",
       "    <tr>\n",
       "      <th>2332</th>\n",
       "      <td>132.913040</td>\n",
       "      <td>7621.726514</td>\n",
       "      <td>7662.488990</td>\n",
       "    </tr>\n",
       "    <tr>\n",
       "      <th>2333</th>\n",
       "      <td>276.454254</td>\n",
       "      <td>7623.322452</td>\n",
       "      <td>7663.873893</td>\n",
       "    </tr>\n",
       "    <tr>\n",
       "      <th>2334</th>\n",
       "      <td>438.375000</td>\n",
       "      <td>7624.918390</td>\n",
       "      <td>7665.257766</td>\n",
       "    </tr>\n",
       "    <tr>\n",
       "      <th>2335</th>\n",
       "      <td>478.378632</td>\n",
       "      <td>7626.514327</td>\n",
       "      <td>7666.640610</td>\n",
       "    </tr>\n",
       "    <tr>\n",
       "      <th>2336</th>\n",
       "      <td>430.754517</td>\n",
       "      <td>7628.110265</td>\n",
       "      <td>7668.022425</td>\n",
       "    </tr>\n",
       "    <tr>\n",
       "      <th>2337</th>\n",
       "      <td>286.120911</td>\n",
       "      <td>7629.706202</td>\n",
       "      <td>7669.403213</td>\n",
       "    </tr>\n",
       "    <tr>\n",
       "      <th>2338</th>\n",
       "      <td>110.115265</td>\n",
       "      <td>7631.302140</td>\n",
       "      <td>7670.782975</td>\n",
       "    </tr>\n",
       "    <tr>\n",
       "      <th>2381</th>\n",
       "      <td>94.367302</td>\n",
       "      <td>7699.927457</td>\n",
       "      <td>7729.153270</td>\n",
       "    </tr>\n",
       "    <tr>\n",
       "      <th>2382</th>\n",
       "      <td>154.688187</td>\n",
       "      <td>7701.523395</td>\n",
       "      <td>7730.488677</td>\n",
       "    </tr>\n",
       "    <tr>\n",
       "      <th>2383</th>\n",
       "      <td>173.712402</td>\n",
       "      <td>7703.119333</td>\n",
       "      <td>7731.823094</td>\n",
       "    </tr>\n",
       "    <tr>\n",
       "      <th>2384</th>\n",
       "      <td>167.232559</td>\n",
       "      <td>7704.715270</td>\n",
       "      <td>7733.156522</td>\n",
       "    </tr>\n",
       "    <tr>\n",
       "      <th>2385</th>\n",
       "      <td>123.564537</td>\n",
       "      <td>7706.311208</td>\n",
       "      <td>7734.488962</td>\n",
       "    </tr>\n",
       "    <tr>\n",
       "      <th>2503</th>\n",
       "      <td>89.710144</td>\n",
       "      <td>7894.631846</td>\n",
       "      <td>7885.001128</td>\n",
       "    </tr>\n",
       "    <tr>\n",
       "      <th>2504</th>\n",
       "      <td>94.550270</td>\n",
       "      <td>7896.227784</td>\n",
       "      <td>7886.221579</td>\n",
       "    </tr>\n",
       "    <tr>\n",
       "      <th>2505</th>\n",
       "      <td>94.070877</td>\n",
       "      <td>7897.823721</td>\n",
       "      <td>7887.441134</td>\n",
       "    </tr>\n",
       "    <tr>\n",
       "      <th>2539</th>\n",
       "      <td>84.858467</td>\n",
       "      <td>7952.085600</td>\n",
       "      <td>7928.378453</td>\n",
       "    </tr>\n",
       "    <tr>\n",
       "      <th>2540</th>\n",
       "      <td>84.475769</td>\n",
       "      <td>7953.681538</td>\n",
       "      <td>7929.567128</td>\n",
       "    </tr>\n",
       "    <tr>\n",
       "      <th>2587</th>\n",
       "      <td>96.776039</td>\n",
       "      <td>8028.690606</td>\n",
       "      <td>7984.466622</td>\n",
       "    </tr>\n",
       "    <tr>\n",
       "      <th>2588</th>\n",
       "      <td>109.186821</td>\n",
       "      <td>8030.286543</td>\n",
       "      <td>7985.614371</td>\n",
       "    </tr>\n",
       "    <tr>\n",
       "      <th>2589</th>\n",
       "      <td>113.666443</td>\n",
       "      <td>8031.882481</td>\n",
       "      <td>7986.761286</td>\n",
       "    </tr>\n",
       "    <tr>\n",
       "      <th>2590</th>\n",
       "      <td>108.875000</td>\n",
       "      <td>8033.478419</td>\n",
       "      <td>7987.907366</td>\n",
       "    </tr>\n",
       "    <tr>\n",
       "      <th>2591</th>\n",
       "      <td>117.699501</td>\n",
       "      <td>8035.074356</td>\n",
       "      <td>7989.052611</td>\n",
       "    </tr>\n",
       "    <tr>\n",
       "      <th>2592</th>\n",
       "      <td>163.141083</td>\n",
       "      <td>8036.670294</td>\n",
       "      <td>7990.197024</td>\n",
       "    </tr>\n",
       "    <tr>\n",
       "      <th>2593</th>\n",
       "      <td>209.295517</td>\n",
       "      <td>8038.266231</td>\n",
       "      <td>7991.340603</td>\n",
       "    </tr>\n",
       "    <tr>\n",
       "      <th>2594</th>\n",
       "      <td>214.569061</td>\n",
       "      <td>8039.862169</td>\n",
       "      <td>7992.483351</td>\n",
       "    </tr>\n",
       "    <tr>\n",
       "      <th>2595</th>\n",
       "      <td>196.210602</td>\n",
       "      <td>8041.458107</td>\n",
       "      <td>7993.625267</td>\n",
       "    </tr>\n",
       "    <tr>\n",
       "      <th>2596</th>\n",
       "      <td>148.259277</td>\n",
       "      <td>8043.054044</td>\n",
       "      <td>7994.766352</td>\n",
       "    </tr>\n",
       "    <tr>\n",
       "      <th>2597</th>\n",
       "      <td>102.384514</td>\n",
       "      <td>8044.649982</td>\n",
       "      <td>7995.906608</td>\n",
       "    </tr>\n",
       "    <tr>\n",
       "      <th>2598</th>\n",
       "      <td>84.200638</td>\n",
       "      <td>8046.245919</td>\n",
       "      <td>7997.046035</td>\n",
       "    </tr>\n",
       "  </tbody>\n",
       "</table>\n",
       "</div>"
      ],
      "text/plain": [
       "            flux   wavelength         wave\n",
       "1360   86.276718  6070.475154  5682.830850\n",
       "1969  130.386551  7042.401161  7084.595062\n",
       "1970  162.263809  7043.997098  7086.413512\n",
       "1971  169.217163  7045.593036  7088.230592\n",
       "1972  117.331520  7047.188974  7090.046305\n",
       "2026   87.147415  7133.369605  7186.091060\n",
       "2027   81.236862  7134.965542  7187.833081\n",
       "2197  104.382698  7406.274937  7465.713556\n",
       "2198  140.350769  7407.870874  7467.245412\n",
       "2199  141.224182  7409.466812  7468.776120\n",
       "2200  115.839218  7411.062749  7470.305682\n",
       "2261  193.922775  7508.414944  7561.475678\n",
       "2262  442.581512  7510.010881  7562.935880\n",
       "2263  654.476685  7511.606819  7564.394990\n",
       "2264  684.969421  7513.202757  7565.853010\n",
       "2265  589.346680  7514.798694  7567.309942\n",
       "2266  350.227814  7516.394632  7568.765785\n",
       "2267  169.197922  7517.990569  7570.220542\n",
       "2268  191.788727  7519.586507  7571.674212\n",
       "2269  237.935684  7521.182445  7573.126796\n",
       "2270  237.916672  7522.778382  7574.578296\n",
       "2271  192.606888  7524.374320  7576.028712\n",
       "2272   99.597145  7525.970258  7577.478045\n",
       "2332  132.913040  7621.726514  7662.488990\n",
       "2333  276.454254  7623.322452  7663.873893\n",
       "2334  438.375000  7624.918390  7665.257766\n",
       "2335  478.378632  7626.514327  7666.640610\n",
       "2336  430.754517  7628.110265  7668.022425\n",
       "2337  286.120911  7629.706202  7669.403213\n",
       "2338  110.115265  7631.302140  7670.782975\n",
       "2381   94.367302  7699.927457  7729.153270\n",
       "2382  154.688187  7701.523395  7730.488677\n",
       "2383  173.712402  7703.119333  7731.823094\n",
       "2384  167.232559  7704.715270  7733.156522\n",
       "2385  123.564537  7706.311208  7734.488962\n",
       "2503   89.710144  7894.631846  7885.001128\n",
       "2504   94.550270  7896.227784  7886.221579\n",
       "2505   94.070877  7897.823721  7887.441134\n",
       "2539   84.858467  7952.085600  7928.378453\n",
       "2540   84.475769  7953.681538  7929.567128\n",
       "2587   96.776039  8028.690606  7984.466622\n",
       "2588  109.186821  8030.286543  7985.614371\n",
       "2589  113.666443  8031.882481  7986.761286\n",
       "2590  108.875000  8033.478419  7987.907366\n",
       "2591  117.699501  8035.074356  7989.052611\n",
       "2592  163.141083  8036.670294  7990.197024\n",
       "2593  209.295517  8038.266231  7991.340603\n",
       "2594  214.569061  8039.862169  7992.483351\n",
       "2595  196.210602  8041.458107  7993.625267\n",
       "2596  148.259277  8043.054044  7994.766352\n",
       "2597  102.384514  8044.649982  7995.906608\n",
       "2598   84.200638  8046.245919  7997.046035"
      ]
     },
     "execution_count": 71,
     "metadata": {},
     "output_type": "execute_result"
    }
   ],
   "source": [
    "df[df['flux']>80]"
   ]
  },
  {
   "cell_type": "code",
   "execution_count": null,
   "id": "ec6192e2",
   "metadata": {},
   "outputs": [],
   "source": []
  },
  {
   "cell_type": "code",
   "execution_count": null,
   "id": "4d132288",
   "metadata": {},
   "outputs": [],
   "source": []
  },
  {
   "cell_type": "code",
   "execution_count": 46,
   "id": "ef12bc37",
   "metadata": {},
   "outputs": [
    {
     "data": {
      "text/plain": [
       "2758"
      ]
     },
     "execution_count": 46,
     "metadata": {},
     "output_type": "execute_result"
    }
   ],
   "source": [
    "len(profile)"
   ]
  },
  {
   "cell_type": "code",
   "execution_count": null,
   "id": "dbe0a369",
   "metadata": {},
   "outputs": [],
   "source": []
  },
  {
   "cell_type": "code",
   "execution_count": null,
   "id": "c90625e8",
   "metadata": {},
   "outputs": [],
   "source": []
  },
  {
   "cell_type": "code",
   "execution_count": 69,
   "id": "ee7867a2",
   "metadata": {},
   "outputs": [],
   "source": [
    "df = pd.DataFrame(profile, columns=['flux'])\n",
    "df['wavelength'] = wave\n",
    "df['wave'] = array_y"
   ]
  },
  {
   "cell_type": "code",
   "execution_count": null,
   "id": "2dfb5bc3",
   "metadata": {},
   "outputs": [],
   "source": []
  },
  {
   "cell_type": "code",
   "execution_count": null,
   "id": "d9ef705a",
   "metadata": {},
   "outputs": [],
   "source": []
  },
  {
   "cell_type": "code",
   "execution_count": 9,
   "id": "4fcf2d1a",
   "metadata": {},
   "outputs": [],
   "source": [
    "spec_path = \"reduced_img.fits\"\n",
    "\n",
    "#open & load spectrum file\n",
    "file = fits.open(spec_path)  \n",
    "specdata = file[0].data\n",
    "header = file[0].header\n",
    "\n",
    "#make WCS object\n",
    "#wcs_data = fitswcs.WCS(header={'CDELT1': header['CDELT1'], 'CRVAL1': header['CRVAL1'],\n",
    "#                               'CUNIT1': header['CUNIT1'], 'CTYPE1': 'WAVE',\n",
    "#                               'CRPIX1': header['CRPIX1']})\n",
    "\n",
    "#set flux units\n",
    "flux= specdata * u.Jy\n",
    "\n",
    "spec = Spectrum1D(flux=flux)"
   ]
  },
  {
   "cell_type": "markdown",
   "id": "c1ea0736",
   "metadata": {},
   "source": [
    "# "
   ]
  },
  {
   "cell_type": "code",
   "execution_count": 30,
   "id": "57d2ec63",
   "metadata": {},
   "outputs": [
    {
     "data": {
      "text/plain": [
       "array([0.000e+00, 1.000e+00, 2.000e+00, ..., 2.755e+03, 2.756e+03,\n",
       "       2.757e+03])"
      ]
     },
     "execution_count": 30,
     "metadata": {},
     "output_type": "execute_result"
    }
   ],
   "source": [
    "spec.spectral_axis.value"
   ]
  },
  {
   "cell_type": "code",
   "execution_count": 36,
   "id": "a41459c0",
   "metadata": {},
   "outputs": [
    {
     "data": {
      "text/latex": [
       "$[0,~1,~2,~\\dots,~2755,~2756,~2757] \\; \\mathrm{\\mathring{A}\\,pix}$"
      ],
      "text/plain": [
       "<Quantity [0.000e+00, 1.000e+00, 2.000e+00, ..., 2.755e+03, 2.756e+03,\n",
       "           2.757e+03] Angstrom pix>"
      ]
     },
     "execution_count": 36,
     "metadata": {},
     "output_type": "execute_result"
    }
   ],
   "source": [
    "spec.spectral_axis * u.AA"
   ]
  },
  {
   "cell_type": "code",
   "execution_count": null,
   "id": "02b595b1",
   "metadata": {},
   "outputs": [],
   "source": [
    "flux = np.random.randn(200)*u.Jy\n",
    "wavelength = np.arange(5100, 5300)*u.AA\n",
    "spec1d = Spectrum1D(spectral_axis=wavelength, flux=flux)\n",
    "ax = plt.subplots()[1]  \n",
    "ax.plot(spec1d.spectral_axis, spec1d.flux)  \n",
    "ax.set_xlabel(\"Dispersion\")  \n",
    "ax.set_ylabel(\"Flux\")  "
   ]
  },
  {
   "cell_type": "code",
   "execution_count": 4,
   "id": "2803affb",
   "metadata": {},
   "outputs": [
    {
     "ename": "ValueError",
     "evalue": "x and y must have same first dimension, but have shapes (2758,) and (2208, 2758)",
     "output_type": "error",
     "traceback": [
      "\u001b[0;31m---------------------------------------------------------------------------\u001b[0m",
      "\u001b[0;31mValueError\u001b[0m                                Traceback (most recent call last)",
      "Input \u001b[0;32mIn [4]\u001b[0m, in \u001b[0;36m<module>\u001b[0;34m\u001b[0m\n\u001b[1;32m     23\u001b[0m \u001b[38;5;66;03m#plot spectrum\u001b[39;00m\n\u001b[1;32m     24\u001b[0m fig, ax \u001b[38;5;241m=\u001b[39m plt\u001b[38;5;241m.\u001b[39msubplots(figsize\u001b[38;5;241m=\u001b[39m(\u001b[38;5;241m16\u001b[39m, \u001b[38;5;241m9\u001b[39m))\n\u001b[0;32m---> 25\u001b[0m \u001b[43max\u001b[49m\u001b[38;5;241;43m.\u001b[39;49m\u001b[43mplot\u001b[49m\u001b[43m(\u001b[49m\u001b[43mspec\u001b[49m\u001b[38;5;241;43m.\u001b[39;49m\u001b[43mspectral_axis\u001b[49m\u001b[43m \u001b[49m\u001b[38;5;241;43m*\u001b[39;49m\u001b[43m \u001b[49m\u001b[43mu\u001b[49m\u001b[38;5;241;43m.\u001b[39;49m\u001b[43mAA\u001b[49m\u001b[43m,\u001b[49m\u001b[43m \u001b[49m\u001b[43mspec\u001b[49m\u001b[38;5;241;43m.\u001b[39;49m\u001b[43mflux\u001b[49m\u001b[43m)\u001b[49m\n\u001b[1;32m     27\u001b[0m \u001b[38;5;66;03m#X axis label\u001b[39;00m\n\u001b[1;32m     28\u001b[0m \u001b[38;5;66;03m#ax.set_xlabel(header['CTYPE1'] + ' - ' + header['CUNIT1'])\u001b[39;00m\n\u001b[1;32m     29\u001b[0m \n\u001b[1;32m     30\u001b[0m \u001b[38;5;66;03m#Y axis label\u001b[39;00m\n\u001b[1;32m     31\u001b[0m ax\u001b[38;5;241m.\u001b[39mset_ylabel(\u001b[38;5;124m'\u001b[39m\u001b[38;5;124mRelative Flux\u001b[39m\u001b[38;5;124m'\u001b[39m)\n",
      "File \u001b[0;32m~/anaconda3/envs/astcourse/lib/python3.9/site-packages/matplotlib/axes/_axes.py:1632\u001b[0m, in \u001b[0;36mAxes.plot\u001b[0;34m(self, scalex, scaley, data, *args, **kwargs)\u001b[0m\n\u001b[1;32m   1390\u001b[0m \u001b[38;5;124;03m\"\"\"\u001b[39;00m\n\u001b[1;32m   1391\u001b[0m \u001b[38;5;124;03mPlot y versus x as lines and/or markers.\u001b[39;00m\n\u001b[1;32m   1392\u001b[0m \n\u001b[0;32m   (...)\u001b[0m\n\u001b[1;32m   1629\u001b[0m \u001b[38;5;124;03m(``'green'``) or hex strings (``'#008000'``).\u001b[39;00m\n\u001b[1;32m   1630\u001b[0m \u001b[38;5;124;03m\"\"\"\u001b[39;00m\n\u001b[1;32m   1631\u001b[0m kwargs \u001b[38;5;241m=\u001b[39m cbook\u001b[38;5;241m.\u001b[39mnormalize_kwargs(kwargs, mlines\u001b[38;5;241m.\u001b[39mLine2D)\n\u001b[0;32m-> 1632\u001b[0m lines \u001b[38;5;241m=\u001b[39m [\u001b[38;5;241m*\u001b[39m\u001b[38;5;28mself\u001b[39m\u001b[38;5;241m.\u001b[39m_get_lines(\u001b[38;5;241m*\u001b[39margs, data\u001b[38;5;241m=\u001b[39mdata, \u001b[38;5;241m*\u001b[39m\u001b[38;5;241m*\u001b[39mkwargs)]\n\u001b[1;32m   1633\u001b[0m \u001b[38;5;28;01mfor\u001b[39;00m line \u001b[38;5;129;01min\u001b[39;00m lines:\n\u001b[1;32m   1634\u001b[0m     \u001b[38;5;28mself\u001b[39m\u001b[38;5;241m.\u001b[39madd_line(line)\n",
      "File \u001b[0;32m~/anaconda3/envs/astcourse/lib/python3.9/site-packages/matplotlib/axes/_base.py:312\u001b[0m, in \u001b[0;36m_process_plot_var_args.__call__\u001b[0;34m(self, data, *args, **kwargs)\u001b[0m\n\u001b[1;32m    310\u001b[0m     this \u001b[38;5;241m+\u001b[39m\u001b[38;5;241m=\u001b[39m args[\u001b[38;5;241m0\u001b[39m],\n\u001b[1;32m    311\u001b[0m     args \u001b[38;5;241m=\u001b[39m args[\u001b[38;5;241m1\u001b[39m:]\n\u001b[0;32m--> 312\u001b[0m \u001b[38;5;28;01myield from\u001b[39;00m \u001b[38;5;28;43mself\u001b[39;49m\u001b[38;5;241;43m.\u001b[39;49m\u001b[43m_plot_args\u001b[49m\u001b[43m(\u001b[49m\u001b[43mthis\u001b[49m\u001b[43m,\u001b[49m\u001b[43m \u001b[49m\u001b[43mkwargs\u001b[49m\u001b[43m)\u001b[49m\n",
      "File \u001b[0;32m~/anaconda3/envs/astcourse/lib/python3.9/site-packages/matplotlib/axes/_base.py:498\u001b[0m, in \u001b[0;36m_process_plot_var_args._plot_args\u001b[0;34m(self, tup, kwargs, return_kwargs)\u001b[0m\n\u001b[1;32m    495\u001b[0m     \u001b[38;5;28mself\u001b[39m\u001b[38;5;241m.\u001b[39maxes\u001b[38;5;241m.\u001b[39myaxis\u001b[38;5;241m.\u001b[39mupdate_units(y)\n\u001b[1;32m    497\u001b[0m \u001b[38;5;28;01mif\u001b[39;00m x\u001b[38;5;241m.\u001b[39mshape[\u001b[38;5;241m0\u001b[39m] \u001b[38;5;241m!=\u001b[39m y\u001b[38;5;241m.\u001b[39mshape[\u001b[38;5;241m0\u001b[39m]:\n\u001b[0;32m--> 498\u001b[0m     \u001b[38;5;28;01mraise\u001b[39;00m \u001b[38;5;167;01mValueError\u001b[39;00m(\u001b[38;5;124mf\u001b[39m\u001b[38;5;124m\"\u001b[39m\u001b[38;5;124mx and y must have same first dimension, but \u001b[39m\u001b[38;5;124m\"\u001b[39m\n\u001b[1;32m    499\u001b[0m                      \u001b[38;5;124mf\u001b[39m\u001b[38;5;124m\"\u001b[39m\u001b[38;5;124mhave shapes \u001b[39m\u001b[38;5;132;01m{\u001b[39;00mx\u001b[38;5;241m.\u001b[39mshape\u001b[38;5;132;01m}\u001b[39;00m\u001b[38;5;124m and \u001b[39m\u001b[38;5;132;01m{\u001b[39;00my\u001b[38;5;241m.\u001b[39mshape\u001b[38;5;132;01m}\u001b[39;00m\u001b[38;5;124m\"\u001b[39m)\n\u001b[1;32m    500\u001b[0m \u001b[38;5;28;01mif\u001b[39;00m x\u001b[38;5;241m.\u001b[39mndim \u001b[38;5;241m>\u001b[39m \u001b[38;5;241m2\u001b[39m \u001b[38;5;129;01mor\u001b[39;00m y\u001b[38;5;241m.\u001b[39mndim \u001b[38;5;241m>\u001b[39m \u001b[38;5;241m2\u001b[39m:\n\u001b[1;32m    501\u001b[0m     \u001b[38;5;28;01mraise\u001b[39;00m \u001b[38;5;167;01mValueError\u001b[39;00m(\u001b[38;5;124mf\u001b[39m\u001b[38;5;124m\"\u001b[39m\u001b[38;5;124mx and y can be no greater than 2D, but have \u001b[39m\u001b[38;5;124m\"\u001b[39m\n\u001b[1;32m    502\u001b[0m                      \u001b[38;5;124mf\u001b[39m\u001b[38;5;124m\"\u001b[39m\u001b[38;5;124mshapes \u001b[39m\u001b[38;5;132;01m{\u001b[39;00mx\u001b[38;5;241m.\u001b[39mshape\u001b[38;5;132;01m}\u001b[39;00m\u001b[38;5;124m and \u001b[39m\u001b[38;5;132;01m{\u001b[39;00my\u001b[38;5;241m.\u001b[39mshape\u001b[38;5;132;01m}\u001b[39;00m\u001b[38;5;124m\"\u001b[39m)\n",
      "\u001b[0;31mValueError\u001b[0m: x and y must have same first dimension, but have shapes (2758,) and (2208, 2758)"
     ]
    },
    {
     "data": {
      "image/png": "[encoded data removed]",
      "text/plain": [
       "<Figure size 1152x648 with 1 Axes>"
      ]
     },
     "metadata": {
      "needs_background": "light"
     },
     "output_type": "display_data"
    }
   ],
   "source": [
    "from astropy import units as u #units\n",
    "import astropy.wcs as fitswcs #wcs\n",
    "from specutils import Spectrum1D, SpectralRegion #spectrum1D (specutils)\n",
    "\n",
    "spec_path = \"reduced_img.fits\"\n",
    "\n",
    "#open & load spectrum file\n",
    "file = fits.open(spec_path)  \n",
    "specdata = file[0].data\n",
    "header = file[0].header\n",
    "\n",
    "#make WCS object\n",
    "#wcs_data = fitswcs.WCS(header={'CDELT1': header['CDELT1'], 'CRVAL1': header['CRVAL1'],\n",
    "#                               'CUNIT1': header['CUNIT1'], 'CTYPE1': 'WAVE',\n",
    "#                               'CRPIX1': header['CRPIX1']})\n",
    "\n",
    "#set flux units\n",
    "flux= specdata * u.Jy\n",
    "\n",
    "#create a Spectrum1D object with specutils\n",
    "spec = Spectrum1D(flux=flux) #, wcs=wcs_data)\n",
    "\n",
    "#plot spectrum\n",
    "fig, ax = plt.subplots(figsize=(16, 9))\n",
    "ax.plot(spec.spectral_axis * u.AA, spec.flux)\n",
    "spec_path = \"reduced_img.fits\"\n",
    "\n",
    "#open & load spectrum file\n",
    "file = fits.open(spec_path)  \n",
    "specdata = file[0].data\n",
    "header = file[0].header\n",
    "\n",
    "#make WCS object\n",
    "#wcs_data = fitswcs.WCS(header={'CDELT1': header['CDELT1'], 'CRVAL1': header['CRVAL1'],\n",
    "#                               'CUNIT1': header['CUNIT1'], 'CTYPE1': 'WAVE',\n",
    "#                               'CRPIX1': header['CRPIX1']})\n",
    "\n",
    "#set flux units\n",
    "flux= specdata * u.Jy\n",
    "#X axis label\n",
    "#ax.set_xlabel(header['CTYPE1'] + ' - ' + header['CUNIT1'])\n",
    "\n",
    "#Y axis label\n",
    "ax.set_ylabel('Relative Flux')\n",
    "\n",
    "#Grid configuration\n",
    "ax.grid(color='grey', alpha=0.8, linestyle='-.', linewidth=0.2, axis='both') \n",
    "    \n",
    "#legend configuraiton\n",
    "#legend_value = header['OBJNAME'] + ' - ' + header['DATE-OBS']\n",
    "#ax.legend([legend_value], loc=('best'))\n",
    "\n",
    "#prepare and set plot title with header infos \n",
    "#spectrumTitle = header['OBJNAME'] + ' - ' + header['DATE-OBS'] + ' - '+ header['EXPTIME2']+ ' - ' + str(header['DETNAM'])\n",
    "ax.set_title(spectrumTitle, loc='center', fontsize=12, fontweight=0.5)\n",
    "\n",
    "#Show Plot\n",
    "plt.show()"
   ]
  },
  {
   "cell_type": "code",
   "execution_count": null,
   "id": "e8da310c",
   "metadata": {},
   "outputs": [],
   "source": []
  },
  {
   "cell_type": "code",
   "execution_count": null,
   "id": "36a51cad",
   "metadata": {},
   "outputs": [],
   "source": []
  },
  {
   "cell_type": "code",
   "execution_count": null,
   "id": "8e71f616",
   "metadata": {},
   "outputs": [],
   "source": []
  },
  {
   "cell_type": "code",
   "execution_count": 24,
   "id": "ca81b4ee",
   "metadata": {
    "scrolled": true
   },
   "outputs": [
    {
     "data": {
      "text/html": [
       "<div><i>Table length=27</i>\n",
       "<table id=\"table5101715792\" class=\"table-striped table-bordered table-condensed\">\n",
       "<thead><tr><th>file</th><th>imagetyp</th><th>exptime</th></tr></thead>\n",
       "<thead><tr><th>str34</th><th>str5</th><th>float64</th></tr></thead>\n",
       "<tr><td>20220409_bias-001.fits</td><td>BIAS</td><td>0.0</td></tr>\n",
       "<tr><td>20220409_bias-002.fits</td><td>BIAS</td><td>0.0</td></tr>\n",
       "<tr><td>20220409_bias-003.fits</td><td>BIAS</td><td>0.0</td></tr>\n",
       "<tr><td>20220409_bias-004.fits</td><td>BIAS</td><td>0.0</td></tr>\n",
       "<tr><td>20220409_bias-005.fits</td><td>BIAS</td><td>0.0</td></tr>\n",
       "<tr><td>20220409_bias-006.fits</td><td>BIAS</td><td>0.0</td></tr>\n",
       "<tr><td>20220409_bias-007.fits</td><td>BIAS</td><td>0.0</td></tr>\n",
       "<tr><td>20220409_bias-008.fits</td><td>BIAS</td><td>0.0</td></tr>\n",
       "<tr><td>20220409_bias-009.fits</td><td>BIAS</td><td>0.0</td></tr>\n",
       "<tr><td>20220409_bias-010.fits</td><td>BIAS</td><td>0.0</td></tr>\n",
       "<tr><td>...</td><td>...</td><td>...</td></tr>\n",
       "<tr><td>20220409_dark-002bin1_dark10s.fits</td><td>DARK</td><td>10.0</td></tr>\n",
       "<tr><td>20220409_dark-003bin1_dark10s.fits</td><td>DARK</td><td>10.0</td></tr>\n",
       "<tr><td>20220409_dark-004bin1_dark10s.fits</td><td>DARK</td><td>10.0</td></tr>\n",
       "<tr><td>20220409_dark-005bin1_dark10s.fits</td><td>DARK</td><td>10.0</td></tr>\n",
       "<tr><td>20220409_dark-006bin1_dark10s.fits</td><td>DARK</td><td>10.0</td></tr>\n",
       "<tr><td>20220409_dark-007bin1_dark10s.fits</td><td>DARK</td><td>10.0</td></tr>\n",
       "<tr><td>20220409_dark-008bin1_dark10s.fits</td><td>DARK</td><td>10.0</td></tr>\n",
       "<tr><td>20220409_dark-009bin1_dark10s.fits</td><td>DARK</td><td>10.0</td></tr>\n",
       "<tr><td>20220409_dark-010bin1_dark10s.fits</td><td>DARK</td><td>10.0</td></tr>\n",
       "<tr><td>20220409_lamp-001bin1_10s.fits</td><td>LIGHT</td><td>10.0</td></tr>\n",
       "</table></div>"
      ],
      "text/plain": [
       "<Table length=27>\n",
       "               file                imagetyp exptime\n",
       "              str34                  str5   float64\n",
       "---------------------------------- -------- -------\n",
       "            20220409_bias-001.fits     BIAS     0.0\n",
       "            20220409_bias-002.fits     BIAS     0.0\n",
       "            20220409_bias-003.fits     BIAS     0.0\n",
       "            20220409_bias-004.fits     BIAS     0.0\n",
       "            20220409_bias-005.fits     BIAS     0.0\n",
       "            20220409_bias-006.fits     BIAS     0.0\n",
       "            20220409_bias-007.fits     BIAS     0.0\n",
       "            20220409_bias-008.fits     BIAS     0.0\n",
       "            20220409_bias-009.fits     BIAS     0.0\n",
       "            20220409_bias-010.fits     BIAS     0.0\n",
       "                               ...      ...     ...\n",
       "20220409_dark-002bin1_dark10s.fits     DARK    10.0\n",
       "20220409_dark-003bin1_dark10s.fits     DARK    10.0\n",
       "20220409_dark-004bin1_dark10s.fits     DARK    10.0\n",
       "20220409_dark-005bin1_dark10s.fits     DARK    10.0\n",
       "20220409_dark-006bin1_dark10s.fits     DARK    10.0\n",
       "20220409_dark-007bin1_dark10s.fits     DARK    10.0\n",
       "20220409_dark-008bin1_dark10s.fits     DARK    10.0\n",
       "20220409_dark-009bin1_dark10s.fits     DARK    10.0\n",
       "20220409_dark-010bin1_dark10s.fits     DARK    10.0\n",
       "    20220409_lamp-001bin1_10s.fits    LIGHT    10.0"
      ]
     },
     "execution_count": 24,
     "metadata": {},
     "output_type": "execute_result"
    }
   ],
   "source": [
    "dpath = Path(data)\n",
    "files = ccdp.ImageFileCollection(dpath)\n",
    "files.summary['file', 'imagetyp', 'exptime']"
   ]
  },
  {
   "cell_type": "code",
   "execution_count": 21,
   "id": "2429cf5c",
   "metadata": {},
   "outputs": [],
   "source": [
    "comb_dark = {ccd.header['exptime']: ccd for ccd in files.ccds(imagetyp='DARK', combined=True)}\n",
    "#combined_flats = {ccd.header['filter']: ccd for ccd in ifc_reduced.ccds(imagetyp=, combined=True)}\n",
    "\n",
    "# There is only on bias, so no need to set up a dictionary.\n",
    "comb_bias = [ccd for ccd in files.ccds(imagetyp='BIAS', combined=True)]"
   ]
  },
  {
   "cell_type": "code",
   "execution_count": null,
   "id": "7c4f84aa",
   "metadata": {},
   "outputs": [],
   "source": []
  }
 ],
 "metadata": {
  "kernelspec": {
   "display_name": "Python 3 (ipykernel)",
   "language": "python",
   "name": "python3"
  },
  "language_info": {
   "codemirror_mode": {
    "name": "ipython",
    "version": 3
   },
   "file_extension": ".py",
   "mimetype": "text/x-python",
   "name": "python",
   "nbconvert_exporter": "python",
   "pygments_lexer": "ipython3",
   "version": "3.9.7"
  },
  "toc": {
   "base_numbering": 1,
   "nav_menu": {},
   "number_sections": true,
   "sideBar": true,
   "skip_h1_title": false,
   "title_cell": "Table of Contents",
   "title_sidebar": "Contents",
   "toc_cell": false,
   "toc_position": {},
   "toc_section_display": true,
   "toc_window_display": false
  }
 },
 "nbformat": 4,
 "nbformat_minor": 5
}
